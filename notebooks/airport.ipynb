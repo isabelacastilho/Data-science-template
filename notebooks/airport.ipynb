{
 "cells": [
  {
   "cell_type": "code",
   "execution_count": 1,
   "metadata": {
    "collapsed": true
   },
   "outputs": [],
   "source": [
    "import pandas as pd\n",
    "import seaborn as sb\n",
    "import matplotlib.pyplot as plt\n",
    "import scipy.stats\n",
    "import statsmodels.formula.api as sm\n",
    "import statsmodels.api as sap\n",
    "import random\n",
    "from sklearn.cross_validation import train_test_split"
   ]
  },
  {
   "cell_type": "code",
   "execution_count": 2,
   "metadata": {
    "collapsed": true
   },
   "outputs": [],
   "source": [
    "%matplotlib inline\n",
    "sb.set(context=\"talk\")"
   ]
  },
  {
   "cell_type": "code",
   "execution_count": 3,
   "metadata": {
    "collapsed": true
   },
   "outputs": [],
   "source": [
    "flights = pd.read_csv('flight_data.csv')\n",
    "p13 = pd.read_csv('FY 2013 export_entry.csv')\n",
    "p14 = pd.read_csv('FY 2014 export_entry.csv')\n",
    "p15 = pd.read_csv('FY 2015 export_entry.csv')"
   ]
  },
  {
   "cell_type": "markdown",
   "metadata": {},
   "source": [
    "# Looking into data samples"
   ]
  },
  {
   "cell_type": "code",
   "execution_count": 4,
   "metadata": {
    "collapsed": false
   },
   "outputs": [
    {
     "name": "stdout",
     "output_type": "stream",
     "text": [
      "<class 'pandas.core.frame.DataFrame'>\n",
      "RangeIndex: 175369 entries, 0 to 175368\n",
      "Data columns (total 10 columns):\n",
      "MAG Airport Name              175369 non-null object\n",
      "Scheduled Date                175369 non-null object\n",
      "Operator IATA Code            175369 non-null object\n",
      "Operator Name                 175369 non-null object\n",
      "Arriving or Departing Flag    175369 non-null object\n",
      "Airport IATA Code             175369 non-null object\n",
      "Airport Name                  175369 non-null object\n",
      "Actual Date Time              172629 non-null object\n",
      "Scheduled Date Time           175369 non-null object\n",
      "# Pax                         87725 non-null float64\n",
      "dtypes: float64(1), object(9)\n",
      "memory usage: 13.4+ MB\n"
     ]
    }
   ],
   "source": [
    "flights.info()"
   ]
  },
  {
   "cell_type": "code",
   "execution_count": 5,
   "metadata": {
    "collapsed": false
   },
   "outputs": [
    {
     "data": {
      "text/html": [
       "<div>\n",
       "<table border=\"1\" class=\"dataframe\">\n",
       "  <thead>\n",
       "    <tr style=\"text-align: right;\">\n",
       "      <th></th>\n",
       "      <th>MAG Airport Name</th>\n",
       "      <th>Scheduled Date</th>\n",
       "      <th>Operator IATA Code</th>\n",
       "      <th>Operator Name</th>\n",
       "      <th>Arriving or Departing Flag</th>\n",
       "      <th>Airport IATA Code</th>\n",
       "      <th>Airport Name</th>\n",
       "      <th>Actual Date Time</th>\n",
       "      <th>Scheduled Date Time</th>\n",
       "      <th># Pax</th>\n",
       "    </tr>\n",
       "  </thead>\n",
       "  <tbody>\n",
       "    <tr>\n",
       "      <th>0</th>\n",
       "      <td>East Midlands</td>\n",
       "      <td>01/04/2012</td>\n",
       "      <td>FR</td>\n",
       "      <td>RYANAIR</td>\n",
       "      <td>Arriving</td>\n",
       "      <td>RHO</td>\n",
       "      <td>Rhodes (Paradisi)</td>\n",
       "      <td>01/04/2012 00:11</td>\n",
       "      <td>01/04/2012 00:05</td>\n",
       "      <td>5.0</td>\n",
       "    </tr>\n",
       "    <tr>\n",
       "      <th>1</th>\n",
       "      <td>East Midlands</td>\n",
       "      <td>01/04/2012</td>\n",
       "      <td>LS</td>\n",
       "      <td>JET2.COM</td>\n",
       "      <td>Arriving</td>\n",
       "      <td>TFS</td>\n",
       "      <td>Tenerife</td>\n",
       "      <td>01/04/2012 00:36</td>\n",
       "      <td>01/04/2012 00:20</td>\n",
       "      <td>125.0</td>\n",
       "    </tr>\n",
       "    <tr>\n",
       "      <th>2</th>\n",
       "      <td>East Midlands</td>\n",
       "      <td>01/04/2012</td>\n",
       "      <td>TCX</td>\n",
       "      <td>THOMAS COOK AIRLINES</td>\n",
       "      <td>Arriving</td>\n",
       "      <td>AYT</td>\n",
       "      <td>Antalya</td>\n",
       "      <td>01/04/2012 01:01</td>\n",
       "      <td>01/04/2012 01:10</td>\n",
       "      <td>212.0</td>\n",
       "    </tr>\n",
       "    <tr>\n",
       "      <th>3</th>\n",
       "      <td>East Midlands</td>\n",
       "      <td>01/04/2012</td>\n",
       "      <td>TOM</td>\n",
       "      <td>THOMSON AIRWAYS</td>\n",
       "      <td>Arriving</td>\n",
       "      <td>LPA</td>\n",
       "      <td>Gran Canaria</td>\n",
       "      <td>01/04/2012 00:51</td>\n",
       "      <td>01/04/2012 01:15</td>\n",
       "      <td>176.0</td>\n",
       "    </tr>\n",
       "    <tr>\n",
       "      <th>4</th>\n",
       "      <td>East Midlands</td>\n",
       "      <td>01/04/2012</td>\n",
       "      <td>TOM</td>\n",
       "      <td>THOMSON AIRWAYS</td>\n",
       "      <td>Arriving</td>\n",
       "      <td>PFO</td>\n",
       "      <td>Paphos</td>\n",
       "      <td>01/04/2012 01:31</td>\n",
       "      <td>01/04/2012 01:55</td>\n",
       "      <td>0.0</td>\n",
       "    </tr>\n",
       "  </tbody>\n",
       "</table>\n",
       "</div>"
      ],
      "text/plain": [
       "  MAG Airport Name Scheduled Date Operator IATA Code         Operator Name  \\\n",
       "0    East Midlands     01/04/2012                 FR               RYANAIR   \n",
       "1    East Midlands     01/04/2012                 LS              JET2.COM   \n",
       "2    East Midlands     01/04/2012                TCX  THOMAS COOK AIRLINES   \n",
       "3    East Midlands     01/04/2012                TOM       THOMSON AIRWAYS   \n",
       "4    East Midlands     01/04/2012                TOM       THOMSON AIRWAYS   \n",
       "\n",
       "  Arriving or Departing Flag Airport IATA Code       Airport Name  \\\n",
       "0                   Arriving               RHO  Rhodes (Paradisi)   \n",
       "1                   Arriving               TFS           Tenerife   \n",
       "2                   Arriving               AYT            Antalya   \n",
       "3                   Arriving               LPA       Gran Canaria   \n",
       "4                   Arriving               PFO             Paphos   \n",
       "\n",
       "   Actual Date Time Scheduled Date Time  # Pax  \n",
       "0  01/04/2012 00:11    01/04/2012 00:05    5.0  \n",
       "1  01/04/2012 00:36    01/04/2012 00:20  125.0  \n",
       "2  01/04/2012 01:01    01/04/2012 01:10  212.0  \n",
       "3  01/04/2012 00:51    01/04/2012 01:15  176.0  \n",
       "4  01/04/2012 01:31    01/04/2012 01:55    0.0  "
      ]
     },
     "execution_count": 5,
     "metadata": {},
     "output_type": "execute_result"
    }
   ],
   "source": [
    "flights.head()"
   ]
  },
  {
   "cell_type": "code",
   "execution_count": 6,
   "metadata": {
    "collapsed": false
   },
   "outputs": [
    {
     "data": {
      "text/html": [
       "<div>\n",
       "<table border=\"1\" class=\"dataframe\">\n",
       "  <thead>\n",
       "    <tr style=\"text-align: right;\">\n",
       "      <th></th>\n",
       "      <th>MAG Airport Name</th>\n",
       "      <th>Scheduled Date</th>\n",
       "      <th>Operator IATA Code</th>\n",
       "      <th>Operator Name</th>\n",
       "      <th>Arriving or Departing Flag</th>\n",
       "      <th>Airport IATA Code</th>\n",
       "      <th>Airport Name</th>\n",
       "      <th>Actual Date Time</th>\n",
       "      <th>Scheduled Date Time</th>\n",
       "      <th># Pax</th>\n",
       "    </tr>\n",
       "  </thead>\n",
       "  <tbody>\n",
       "    <tr>\n",
       "      <th>175364</th>\n",
       "      <td>East Midlands</td>\n",
       "      <td>31/03/2015</td>\n",
       "      <td>BCS</td>\n",
       "      <td>EUROPEAN AIR TRANSPORT</td>\n",
       "      <td>Departing</td>\n",
       "      <td>CDG</td>\n",
       "      <td>Paris - Charles De Gaulle</td>\n",
       "      <td>31/03/2015 23:31</td>\n",
       "      <td>31/03/2015 23:20</td>\n",
       "      <td>NaN</td>\n",
       "    </tr>\n",
       "    <tr>\n",
       "      <th>175365</th>\n",
       "      <td>East Midlands</td>\n",
       "      <td>31/03/2015</td>\n",
       "      <td>FR</td>\n",
       "      <td>RYANAIR</td>\n",
       "      <td>Arriving</td>\n",
       "      <td>TFS</td>\n",
       "      <td>Tenerife</td>\n",
       "      <td>31/03/2015 23:40</td>\n",
       "      <td>31/03/2015 23:20</td>\n",
       "      <td>187.0</td>\n",
       "    </tr>\n",
       "    <tr>\n",
       "      <th>175366</th>\n",
       "      <td>East Midlands</td>\n",
       "      <td>31/03/2015</td>\n",
       "      <td>FR</td>\n",
       "      <td>RYANAIR</td>\n",
       "      <td>Arriving</td>\n",
       "      <td>IBZ</td>\n",
       "      <td>Ibiza</td>\n",
       "      <td>31/03/2015 23:39</td>\n",
       "      <td>31/03/2015 23:35</td>\n",
       "      <td>8.0</td>\n",
       "    </tr>\n",
       "    <tr>\n",
       "      <th>175367</th>\n",
       "      <td>East Midlands</td>\n",
       "      <td>31/03/2015</td>\n",
       "      <td>FR</td>\n",
       "      <td>RYANAIR</td>\n",
       "      <td>Arriving</td>\n",
       "      <td>RZE</td>\n",
       "      <td>Rzeszow</td>\n",
       "      <td>01/04/2015 00:04</td>\n",
       "      <td>31/03/2015 23:40</td>\n",
       "      <td>169.0</td>\n",
       "    </tr>\n",
       "    <tr>\n",
       "      <th>175368</th>\n",
       "      <td>East Midlands</td>\n",
       "      <td>31/03/2015</td>\n",
       "      <td>LOG</td>\n",
       "      <td>LOGAN AIR</td>\n",
       "      <td>Arriving</td>\n",
       "      <td>EDI</td>\n",
       "      <td>Edinburgh</td>\n",
       "      <td>31/03/2015 23:51</td>\n",
       "      <td>31/03/2015 23:55</td>\n",
       "      <td>NaN</td>\n",
       "    </tr>\n",
       "  </tbody>\n",
       "</table>\n",
       "</div>"
      ],
      "text/plain": [
       "       MAG Airport Name Scheduled Date Operator IATA Code  \\\n",
       "175364    East Midlands     31/03/2015                BCS   \n",
       "175365    East Midlands     31/03/2015                 FR   \n",
       "175366    East Midlands     31/03/2015                 FR   \n",
       "175367    East Midlands     31/03/2015                 FR   \n",
       "175368    East Midlands     31/03/2015                LOG   \n",
       "\n",
       "                 Operator Name Arriving or Departing Flag Airport IATA Code  \\\n",
       "175364  EUROPEAN AIR TRANSPORT                  Departing               CDG   \n",
       "175365                 RYANAIR                   Arriving               TFS   \n",
       "175366                 RYANAIR                   Arriving               IBZ   \n",
       "175367                 RYANAIR                   Arriving               RZE   \n",
       "175368               LOGAN AIR                   Arriving               EDI   \n",
       "\n",
       "                     Airport Name  Actual Date Time Scheduled Date Time  # Pax  \n",
       "175364  Paris - Charles De Gaulle  31/03/2015 23:31    31/03/2015 23:20    NaN  \n",
       "175365                   Tenerife  31/03/2015 23:40    31/03/2015 23:20  187.0  \n",
       "175366                      Ibiza  31/03/2015 23:39    31/03/2015 23:35    8.0  \n",
       "175367                    Rzeszow  01/04/2015 00:04    31/03/2015 23:40  169.0  \n",
       "175368                  Edinburgh  31/03/2015 23:51    31/03/2015 23:55    NaN  "
      ]
     },
     "execution_count": 6,
     "metadata": {},
     "output_type": "execute_result"
    }
   ],
   "source": [
    "flights.tail()"
   ]
  },
  {
   "cell_type": "code",
   "execution_count": 7,
   "metadata": {
    "collapsed": false
   },
   "outputs": [
    {
     "data": {
      "text/html": [
       "<div>\n",
       "<table border=\"1\" class=\"dataframe\">\n",
       "  <thead>\n",
       "    <tr style=\"text-align: right;\">\n",
       "      <th></th>\n",
       "      <th>OPERATOR_TYPE</th>\n",
       "      <th>CARPARK_SUMMARY_NAME</th>\n",
       "      <th>SOURCE_BOOKING_REF</th>\n",
       "      <th>ENTRY_DATE_TIME</th>\n",
       "      <th>EXIT_DATE_TIME</th>\n",
       "      <th>ENTRY_DATE_TIME_1</th>\n",
       "      <th>BOOKING_DATE_TIME</th>\n",
       "      <th>NVL(FACT_CARPARK_BOOKING.TOTAL_GROSS_PRICE,FACT_CARPARK_BOOKING.GROSS_PRICE)</th>\n",
       "      <th>NVL(FACT_CARPARK_BOOKING.TOTAL_NET_PRICE,FACT_CARPARK_BOOKING.NET_PRICE)</th>\n",
       "      <th>BOOKING_TYPE</th>\n",
       "      <th>TRUEFALS_CANCELLED</th>\n",
       "    </tr>\n",
       "  </thead>\n",
       "  <tbody>\n",
       "    <tr>\n",
       "      <th>0</th>\n",
       "      <td>Turnup</td>\n",
       "      <td>Short Stay</td>\n",
       "      <td>201204010007555101169318-1</td>\n",
       "      <td>01-Apr-12</td>\n",
       "      <td>01-Apr-12</td>\n",
       "      <td>01-Apr-12</td>\n",
       "      <td>01-Apr-12</td>\n",
       "      <td>2.0</td>\n",
       "      <td>1.67</td>\n",
       "      <td>Turnup SS</td>\n",
       "      <td>0</td>\n",
       "    </tr>\n",
       "    <tr>\n",
       "      <th>1</th>\n",
       "      <td>Turnup</td>\n",
       "      <td>Short Stay</td>\n",
       "      <td>201204010108047701197792-1</td>\n",
       "      <td>01-Apr-12</td>\n",
       "      <td>01-Apr-12</td>\n",
       "      <td>01-Apr-12</td>\n",
       "      <td>01-Apr-12</td>\n",
       "      <td>3.0</td>\n",
       "      <td>2.50</td>\n",
       "      <td>Turnup SS</td>\n",
       "      <td>0</td>\n",
       "    </tr>\n",
       "  </tbody>\n",
       "</table>\n",
       "</div>"
      ],
      "text/plain": [
       "  OPERATOR_TYPE CARPARK_SUMMARY_NAME          SOURCE_BOOKING_REF  \\\n",
       "0        Turnup           Short Stay  201204010007555101169318-1   \n",
       "1        Turnup           Short Stay  201204010108047701197792-1   \n",
       "\n",
       "  ENTRY_DATE_TIME EXIT_DATE_TIME ENTRY_DATE_TIME_1 BOOKING_DATE_TIME  \\\n",
       "0       01-Apr-12      01-Apr-12         01-Apr-12         01-Apr-12   \n",
       "1       01-Apr-12      01-Apr-12         01-Apr-12         01-Apr-12   \n",
       "\n",
       "   NVL(FACT_CARPARK_BOOKING.TOTAL_GROSS_PRICE,FACT_CARPARK_BOOKING.GROSS_PRICE)  \\\n",
       "0                                                2.0                              \n",
       "1                                                3.0                              \n",
       "\n",
       "   NVL(FACT_CARPARK_BOOKING.TOTAL_NET_PRICE,FACT_CARPARK_BOOKING.NET_PRICE)  \\\n",
       "0                                               1.67                          \n",
       "1                                               2.50                          \n",
       "\n",
       "  BOOKING_TYPE  TRUEFALS_CANCELLED  \n",
       "0    Turnup SS                   0  \n",
       "1    Turnup SS                   0  "
      ]
     },
     "execution_count": 7,
     "metadata": {},
     "output_type": "execute_result"
    }
   ],
   "source": [
    "p13.head(2)"
   ]
  },
  {
   "cell_type": "code",
   "execution_count": 8,
   "metadata": {
    "collapsed": false
   },
   "outputs": [
    {
     "data": {
      "text/html": [
       "<div>\n",
       "<table border=\"1\" class=\"dataframe\">\n",
       "  <thead>\n",
       "    <tr style=\"text-align: right;\">\n",
       "      <th></th>\n",
       "      <th>OPERATOR_TYPE</th>\n",
       "      <th>CARPARK_SUMMARY_NAME</th>\n",
       "      <th>SOURCE_BOOKING_REF</th>\n",
       "      <th>ENTRY_DATE_TIME</th>\n",
       "      <th>EXIT_DATE_TIME</th>\n",
       "      <th>ENTRY_DATE_TIME_1</th>\n",
       "      <th>BOOKING_DATE_TIME</th>\n",
       "      <th>NVL(FACT_CARPARK_BOOKING.TOTAL_GROSS_PRICE,FACT_CARPARK_BOOKING.GROSS_PRICE)</th>\n",
       "      <th>NVL(FACT_CARPARK_BOOKING.TOTAL_NET_PRICE,FACT_CARPARK_BOOKING.NET_PRICE)</th>\n",
       "      <th>BOOKING_TYPE</th>\n",
       "      <th>TRUEFALS_CANCELLED</th>\n",
       "    </tr>\n",
       "  </thead>\n",
       "  <tbody>\n",
       "    <tr>\n",
       "      <th>0</th>\n",
       "      <td>Prebooked</td>\n",
       "      <td>Express Park</td>\n",
       "      <td>EWEP1294215</td>\n",
       "      <td>01-APR-13</td>\n",
       "      <td>02-APR-13</td>\n",
       "      <td>01-APR-13</td>\n",
       "      <td>25-MAR-13</td>\n",
       "      <td>23.99</td>\n",
       "      <td>19.99</td>\n",
       "      <td>Prebooked</td>\n",
       "      <td>0</td>\n",
       "    </tr>\n",
       "    <tr>\n",
       "      <th>1</th>\n",
       "      <td>Prebooked</td>\n",
       "      <td>Meet and Greet</td>\n",
       "      <td>XULN2</td>\n",
       "      <td>01-APR-13</td>\n",
       "      <td>09-APR-13</td>\n",
       "      <td>01-APR-13</td>\n",
       "      <td>27-MAR-13</td>\n",
       "      <td>62.67</td>\n",
       "      <td>38.12</td>\n",
       "      <td>Prebooked</td>\n",
       "      <td>0</td>\n",
       "    </tr>\n",
       "  </tbody>\n",
       "</table>\n",
       "</div>"
      ],
      "text/plain": [
       "  OPERATOR_TYPE CARPARK_SUMMARY_NAME SOURCE_BOOKING_REF ENTRY_DATE_TIME  \\\n",
       "0     Prebooked         Express Park        EWEP1294215       01-APR-13   \n",
       "1     Prebooked       Meet and Greet              XULN2       01-APR-13   \n",
       "\n",
       "  EXIT_DATE_TIME ENTRY_DATE_TIME_1 BOOKING_DATE_TIME  \\\n",
       "0      02-APR-13         01-APR-13         25-MAR-13   \n",
       "1      09-APR-13         01-APR-13         27-MAR-13   \n",
       "\n",
       "   NVL(FACT_CARPARK_BOOKING.TOTAL_GROSS_PRICE,FACT_CARPARK_BOOKING.GROSS_PRICE)  \\\n",
       "0                                              23.99                              \n",
       "1                                              62.67                              \n",
       "\n",
       "   NVL(FACT_CARPARK_BOOKING.TOTAL_NET_PRICE,FACT_CARPARK_BOOKING.NET_PRICE)  \\\n",
       "0                                              19.99                          \n",
       "1                                              38.12                          \n",
       "\n",
       "  BOOKING_TYPE  TRUEFALS_CANCELLED  \n",
       "0    Prebooked                   0  \n",
       "1    Prebooked                   0  "
      ]
     },
     "execution_count": 8,
     "metadata": {},
     "output_type": "execute_result"
    }
   ],
   "source": [
    "p14.head(2)"
   ]
  },
  {
   "cell_type": "code",
   "execution_count": 9,
   "metadata": {
    "collapsed": false
   },
   "outputs": [
    {
     "data": {
      "text/html": [
       "<div>\n",
       "<table border=\"1\" class=\"dataframe\">\n",
       "  <thead>\n",
       "    <tr style=\"text-align: right;\">\n",
       "      <th></th>\n",
       "      <th>OPERATOR_TYPE</th>\n",
       "      <th>CARPARK_SUMMARY_NAME</th>\n",
       "      <th>SOURCE_BOOKING_REF</th>\n",
       "      <th>ENTRY_DATE_TIME</th>\n",
       "      <th>EXIT_DATE_TIME</th>\n",
       "      <th>ENTRY_DATE_TIME_1</th>\n",
       "      <th>BOOKING_DATE_TIME</th>\n",
       "      <th>NVL(FACT_CARPARK_BOOKING.TOTAL_GROSS_PRICE,FACT_CARPARK_BOOKING.GROSS_PRICE)</th>\n",
       "      <th>NVL(FACT_CARPARK_BOOKING.TOTAL_NET_PRICE,FACT_CARPARK_BOOKING.NET_PRICE)</th>\n",
       "      <th>BOOKING_TYPE</th>\n",
       "      <th>TRUEFALS_CANCELLED</th>\n",
       "    </tr>\n",
       "  </thead>\n",
       "  <tbody>\n",
       "    <tr>\n",
       "      <th>0</th>\n",
       "      <td>Prebooked</td>\n",
       "      <td>JetParks Plus</td>\n",
       "      <td>EX521720707</td>\n",
       "      <td>01-APR-14</td>\n",
       "      <td>08-APR-14</td>\n",
       "      <td>01-APR-14</td>\n",
       "      <td>31-JAN-14</td>\n",
       "      <td>16.44</td>\n",
       "      <td>10.00</td>\n",
       "      <td>Prebooked</td>\n",
       "      <td>0</td>\n",
       "    </tr>\n",
       "    <tr>\n",
       "      <th>1</th>\n",
       "      <td>Turnup</td>\n",
       "      <td>Short Stay</td>\n",
       "      <td>EMA_FY2015_MANUAL_20140401_SSCP</td>\n",
       "      <td>01-APR-14</td>\n",
       "      <td>01-APR-14</td>\n",
       "      <td>01-APR-14</td>\n",
       "      <td>01-APR-14</td>\n",
       "      <td>4061.75</td>\n",
       "      <td>3384.79</td>\n",
       "      <td>Turnup SS</td>\n",
       "      <td>0</td>\n",
       "    </tr>\n",
       "  </tbody>\n",
       "</table>\n",
       "</div>"
      ],
      "text/plain": [
       "  OPERATOR_TYPE CARPARK_SUMMARY_NAME               SOURCE_BOOKING_REF  \\\n",
       "0     Prebooked        JetParks Plus                      EX521720707   \n",
       "1        Turnup           Short Stay  EMA_FY2015_MANUAL_20140401_SSCP   \n",
       "\n",
       "  ENTRY_DATE_TIME EXIT_DATE_TIME ENTRY_DATE_TIME_1 BOOKING_DATE_TIME  \\\n",
       "0       01-APR-14      08-APR-14         01-APR-14         31-JAN-14   \n",
       "1       01-APR-14      01-APR-14         01-APR-14         01-APR-14   \n",
       "\n",
       "   NVL(FACT_CARPARK_BOOKING.TOTAL_GROSS_PRICE,FACT_CARPARK_BOOKING.GROSS_PRICE)  \\\n",
       "0                                              16.44                              \n",
       "1                                            4061.75                              \n",
       "\n",
       "   NVL(FACT_CARPARK_BOOKING.TOTAL_NET_PRICE,FACT_CARPARK_BOOKING.NET_PRICE)  \\\n",
       "0                                              10.00                          \n",
       "1                                            3384.79                          \n",
       "\n",
       "  BOOKING_TYPE  TRUEFALS_CANCELLED  \n",
       "0    Prebooked                   0  \n",
       "1    Turnup SS                   0  "
      ]
     },
     "execution_count": 9,
     "metadata": {},
     "output_type": "execute_result"
    }
   ],
   "source": [
    "p15.head(2)"
   ]
  },
  {
   "cell_type": "markdown",
   "metadata": {},
   "source": [
    "# Checking for empty values on flights"
   ]
  },
  {
   "cell_type": "code",
   "execution_count": 10,
   "metadata": {
    "collapsed": false
   },
   "outputs": [
    {
     "data": {
      "text/plain": [
       "MAG Airport Name                  0\n",
       "Scheduled Date                    0\n",
       "Operator IATA Code                0\n",
       "Operator Name                     0\n",
       "Arriving or Departing Flag        0\n",
       "Airport IATA Code                 0\n",
       "Airport Name                      0\n",
       "Actual Date Time               2740\n",
       "Scheduled Date Time               0\n",
       "# Pax                         87644\n",
       "dtype: int64"
      ]
     },
     "execution_count": 10,
     "metadata": {},
     "output_type": "execute_result"
    }
   ],
   "source": [
    "flights.isnull().sum()"
   ]
  },
  {
   "cell_type": "code",
   "execution_count": 11,
   "metadata": {
    "collapsed": false
   },
   "outputs": [
    {
     "data": {
      "text/plain": [
       "str"
      ]
     },
     "execution_count": 11,
     "metadata": {},
     "output_type": "execute_result"
    }
   ],
   "source": [
    "type(flights['Actual Date Time'][0])"
   ]
  },
  {
   "cell_type": "markdown",
   "metadata": {},
   "source": [
    "# Cleaning rows with invalid \"actual date\"\n",
    "I assumed that flights with scheduled date but no actual date were cancelled of merged into other flights, but this assumption would need to be tested"
   ]
  },
  {
   "cell_type": "code",
   "execution_count": 12,
   "metadata": {
    "collapsed": false
   },
   "outputs": [],
   "source": [
    "idx_emptyActDate = flights['Actual Date Time'].map(lambda x: isinstance(x, str))"
   ]
  },
  {
   "cell_type": "code",
   "execution_count": 13,
   "metadata": {
    "collapsed": false
   },
   "outputs": [],
   "source": [
    "flights = flights.ix[idx_emptyActDate, :]"
   ]
  },
  {
   "cell_type": "code",
   "execution_count": 14,
   "metadata": {
    "collapsed": false
   },
   "outputs": [
    {
     "data": {
      "text/html": [
       "<div>\n",
       "<table border=\"1\" class=\"dataframe\">\n",
       "  <thead>\n",
       "    <tr style=\"text-align: right;\">\n",
       "      <th></th>\n",
       "      <th>MAG Airport Name</th>\n",
       "      <th>Scheduled Date</th>\n",
       "      <th>Operator IATA Code</th>\n",
       "      <th>Operator Name</th>\n",
       "      <th>Arriving or Departing Flag</th>\n",
       "      <th>Airport IATA Code</th>\n",
       "      <th>Airport Name</th>\n",
       "      <th>Actual Date Time</th>\n",
       "      <th>Scheduled Date Time</th>\n",
       "      <th># Pax</th>\n",
       "    </tr>\n",
       "  </thead>\n",
       "  <tbody>\n",
       "    <tr>\n",
       "      <th>0</th>\n",
       "      <td>East Midlands</td>\n",
       "      <td>01/04/2012</td>\n",
       "      <td>FR</td>\n",
       "      <td>RYANAIR</td>\n",
       "      <td>Arriving</td>\n",
       "      <td>RHO</td>\n",
       "      <td>Rhodes (Paradisi)</td>\n",
       "      <td>01/04/2012 00:11</td>\n",
       "      <td>01/04/2012 00:05</td>\n",
       "      <td>5.0</td>\n",
       "    </tr>\n",
       "    <tr>\n",
       "      <th>1</th>\n",
       "      <td>East Midlands</td>\n",
       "      <td>01/04/2012</td>\n",
       "      <td>LS</td>\n",
       "      <td>JET2.COM</td>\n",
       "      <td>Arriving</td>\n",
       "      <td>TFS</td>\n",
       "      <td>Tenerife</td>\n",
       "      <td>01/04/2012 00:36</td>\n",
       "      <td>01/04/2012 00:20</td>\n",
       "      <td>125.0</td>\n",
       "    </tr>\n",
       "    <tr>\n",
       "      <th>2</th>\n",
       "      <td>East Midlands</td>\n",
       "      <td>01/04/2012</td>\n",
       "      <td>TCX</td>\n",
       "      <td>THOMAS COOK AIRLINES</td>\n",
       "      <td>Arriving</td>\n",
       "      <td>AYT</td>\n",
       "      <td>Antalya</td>\n",
       "      <td>01/04/2012 01:01</td>\n",
       "      <td>01/04/2012 01:10</td>\n",
       "      <td>212.0</td>\n",
       "    </tr>\n",
       "    <tr>\n",
       "      <th>3</th>\n",
       "      <td>East Midlands</td>\n",
       "      <td>01/04/2012</td>\n",
       "      <td>TOM</td>\n",
       "      <td>THOMSON AIRWAYS</td>\n",
       "      <td>Arriving</td>\n",
       "      <td>LPA</td>\n",
       "      <td>Gran Canaria</td>\n",
       "      <td>01/04/2012 00:51</td>\n",
       "      <td>01/04/2012 01:15</td>\n",
       "      <td>176.0</td>\n",
       "    </tr>\n",
       "    <tr>\n",
       "      <th>4</th>\n",
       "      <td>East Midlands</td>\n",
       "      <td>01/04/2012</td>\n",
       "      <td>TOM</td>\n",
       "      <td>THOMSON AIRWAYS</td>\n",
       "      <td>Arriving</td>\n",
       "      <td>PFO</td>\n",
       "      <td>Paphos</td>\n",
       "      <td>01/04/2012 01:31</td>\n",
       "      <td>01/04/2012 01:55</td>\n",
       "      <td>0.0</td>\n",
       "    </tr>\n",
       "  </tbody>\n",
       "</table>\n",
       "</div>"
      ],
      "text/plain": [
       "  MAG Airport Name Scheduled Date Operator IATA Code         Operator Name  \\\n",
       "0    East Midlands     01/04/2012                 FR               RYANAIR   \n",
       "1    East Midlands     01/04/2012                 LS              JET2.COM   \n",
       "2    East Midlands     01/04/2012                TCX  THOMAS COOK AIRLINES   \n",
       "3    East Midlands     01/04/2012                TOM       THOMSON AIRWAYS   \n",
       "4    East Midlands     01/04/2012                TOM       THOMSON AIRWAYS   \n",
       "\n",
       "  Arriving or Departing Flag Airport IATA Code       Airport Name  \\\n",
       "0                   Arriving               RHO  Rhodes (Paradisi)   \n",
       "1                   Arriving               TFS           Tenerife   \n",
       "2                   Arriving               AYT            Antalya   \n",
       "3                   Arriving               LPA       Gran Canaria   \n",
       "4                   Arriving               PFO             Paphos   \n",
       "\n",
       "   Actual Date Time Scheduled Date Time  # Pax  \n",
       "0  01/04/2012 00:11    01/04/2012 00:05    5.0  \n",
       "1  01/04/2012 00:36    01/04/2012 00:20  125.0  \n",
       "2  01/04/2012 01:01    01/04/2012 01:10  212.0  \n",
       "3  01/04/2012 00:51    01/04/2012 01:15  176.0  \n",
       "4  01/04/2012 01:31    01/04/2012 01:55    0.0  "
      ]
     },
     "execution_count": 14,
     "metadata": {},
     "output_type": "execute_result"
    }
   ],
   "source": [
    "flights.head()"
   ]
  },
  {
   "cell_type": "code",
   "execution_count": 15,
   "metadata": {
    "collapsed": false
   },
   "outputs": [
    {
     "data": {
      "text/plain": [
       "MAG Airport Name                  0\n",
       "Scheduled Date                    0\n",
       "Operator IATA Code                0\n",
       "Operator Name                     0\n",
       "Arriving or Departing Flag        0\n",
       "Airport IATA Code                 0\n",
       "Airport Name                      0\n",
       "Actual Date Time                  0\n",
       "Scheduled Date Time               0\n",
       "# Pax                         84906\n",
       "dtype: int64"
      ]
     },
     "execution_count": 15,
     "metadata": {},
     "output_type": "execute_result"
    }
   ],
   "source": [
    "flights.isnull().sum()"
   ]
  },
  {
   "cell_type": "markdown",
   "metadata": {},
   "source": [
    "# Checking for empty values on parking datasets"
   ]
  },
  {
   "cell_type": "code",
   "execution_count": 16,
   "metadata": {
    "collapsed": false
   },
   "outputs": [
    {
     "data": {
      "text/plain": [
       "OPERATOR_TYPE                                                                   0\n",
       "CARPARK_SUMMARY_NAME                                                            0\n",
       "SOURCE_BOOKING_REF                                                              0\n",
       "ENTRY_DATE_TIME                                                                 0\n",
       "EXIT_DATE_TIME                                                                  0\n",
       "ENTRY_DATE_TIME_1                                                               0\n",
       "BOOKING_DATE_TIME                                                               0\n",
       "NVL(FACT_CARPARK_BOOKING.TOTAL_GROSS_PRICE,FACT_CARPARK_BOOKING.GROSS_PRICE)    0\n",
       "NVL(FACT_CARPARK_BOOKING.TOTAL_NET_PRICE,FACT_CARPARK_BOOKING.NET_PRICE)        0\n",
       "BOOKING_TYPE                                                                    0\n",
       "TRUEFALS_CANCELLED                                                              0\n",
       "dtype: int64"
      ]
     },
     "execution_count": 16,
     "metadata": {},
     "output_type": "execute_result"
    }
   ],
   "source": [
    "p13.isnull().sum()"
   ]
  },
  {
   "cell_type": "code",
   "execution_count": 17,
   "metadata": {
    "collapsed": false
   },
   "outputs": [
    {
     "data": {
      "text/plain": [
       "OPERATOR_TYPE                                                                   0\n",
       "CARPARK_SUMMARY_NAME                                                            0\n",
       "SOURCE_BOOKING_REF                                                              0\n",
       "ENTRY_DATE_TIME                                                                 0\n",
       "EXIT_DATE_TIME                                                                  0\n",
       "ENTRY_DATE_TIME_1                                                               0\n",
       "BOOKING_DATE_TIME                                                               0\n",
       "NVL(FACT_CARPARK_BOOKING.TOTAL_GROSS_PRICE,FACT_CARPARK_BOOKING.GROSS_PRICE)    4\n",
       "NVL(FACT_CARPARK_BOOKING.TOTAL_NET_PRICE,FACT_CARPARK_BOOKING.NET_PRICE)        4\n",
       "BOOKING_TYPE                                                                    0\n",
       "TRUEFALS_CANCELLED                                                              0\n",
       "dtype: int64"
      ]
     },
     "execution_count": 17,
     "metadata": {},
     "output_type": "execute_result"
    }
   ],
   "source": [
    "p14.isnull().sum()"
   ]
  },
  {
   "cell_type": "markdown",
   "metadata": {},
   "source": [
    "Since only the price columns are missing values, I will not remove those rows."
   ]
  },
  {
   "cell_type": "code",
   "execution_count": 18,
   "metadata": {
    "collapsed": false
   },
   "outputs": [
    {
     "data": {
      "text/plain": [
       "OPERATOR_TYPE                                                                   0\n",
       "CARPARK_SUMMARY_NAME                                                            0\n",
       "SOURCE_BOOKING_REF                                                              0\n",
       "ENTRY_DATE_TIME                                                                 0\n",
       "EXIT_DATE_TIME                                                                  0\n",
       "ENTRY_DATE_TIME_1                                                               0\n",
       "BOOKING_DATE_TIME                                                               0\n",
       "NVL(FACT_CARPARK_BOOKING.TOTAL_GROSS_PRICE,FACT_CARPARK_BOOKING.GROSS_PRICE)    0\n",
       "NVL(FACT_CARPARK_BOOKING.TOTAL_NET_PRICE,FACT_CARPARK_BOOKING.NET_PRICE)        0\n",
       "BOOKING_TYPE                                                                    0\n",
       "TRUEFALS_CANCELLED                                                              0\n",
       "dtype: int64"
      ]
     },
     "execution_count": 18,
     "metadata": {},
     "output_type": "execute_result"
    }
   ],
   "source": [
    "p15.isnull().sum()"
   ]
  },
  {
   "cell_type": "markdown",
   "metadata": {},
   "source": [
    "# Renaming columns"
   ]
  },
  {
   "cell_type": "code",
   "execution_count": 19,
   "metadata": {
    "collapsed": false
   },
   "outputs": [],
   "source": [
    "p13=p13.rename(index=str, columns={\"OPERATOR_TYPE\": \"op_type\", \"CARPARK_SUMMARY_NAME\": \"summary\", \"SOURCE_BOOKING_REF\": \"ref\", \"ENTRY_DATE_TIME\": \"in\", \"EXIT_DATE_TIME\": \"out\", \"ENTRY_DATE_TIME_1\":\"in1\", \"BOOKING_DATE_TIME\":\"booking_date\" , \"NVL(FACT_CARPARK_BOOKING.TOTAL_GROSS_PRICE,FACT_CARPARK_BOOKING.GROSS_PRICE)\":\"gross_price\", \"NVL(FACT_CARPARK_BOOKING.TOTAL_NET_PRICE,FACT_CARPARK_BOOKING.NET_PRICE)\": \"net_price\", \"BOOKING_TYPE\":\"booking_type\", \"TRUEFALS_CANCELLED\":\"cancelled\" })"
   ]
  },
  {
   "cell_type": "code",
   "execution_count": 20,
   "metadata": {
    "collapsed": false
   },
   "outputs": [],
   "source": [
    "p14=p14.rename(index=str, columns={\"OPERATOR_TYPE\": \"op_type\", \"CARPARK_SUMMARY_NAME\": \"summary\", \"SOURCE_BOOKING_REF\": \"ref\", \"ENTRY_DATE_TIME\": \"in\", \"EXIT_DATE_TIME\": \"out\", \"ENTRY_DATE_TIME_1\":\"in1\", \"BOOKING_DATE_TIME\":\"booking_date\" , \"NVL(FACT_CARPARK_BOOKING.TOTAL_GROSS_PRICE,FACT_CARPARK_BOOKING.GROSS_PRICE)\":\"gross_price\", \"NVL(FACT_CARPARK_BOOKING.TOTAL_NET_PRICE,FACT_CARPARK_BOOKING.NET_PRICE)\": \"net_price\", \"BOOKING_TYPE\":\"booking_type\", \"TRUEFALS_CANCELLED\":\"cancelled\" })"
   ]
  },
  {
   "cell_type": "code",
   "execution_count": 21,
   "metadata": {
    "collapsed": true
   },
   "outputs": [],
   "source": [
    "p15=p15.rename(index=str, columns={\"OPERATOR_TYPE\": \"op_type\", \"CARPARK_SUMMARY_NAME\": \"summary\", \"SOURCE_BOOKING_REF\": \"ref\", \"ENTRY_DATE_TIME\": \"in\", \"EXIT_DATE_TIME\": \"out\", \"ENTRY_DATE_TIME_1\":\"in1\", \"BOOKING_DATE_TIME\":\"booking_date\" , \"NVL(FACT_CARPARK_BOOKING.TOTAL_GROSS_PRICE,FACT_CARPARK_BOOKING.GROSS_PRICE)\":\"gross_price\", \"NVL(FACT_CARPARK_BOOKING.TOTAL_NET_PRICE,FACT_CARPARK_BOOKING.NET_PRICE)\": \"net_price\", \"BOOKING_TYPE\":\"booking_type\", \"TRUEFALS_CANCELLED\":\"cancelled\" })"
   ]
  },
  {
   "cell_type": "code",
   "execution_count": 22,
   "metadata": {
    "collapsed": false
   },
   "outputs": [
    {
     "data": {
      "text/html": [
       "<div>\n",
       "<table border=\"1\" class=\"dataframe\">\n",
       "  <thead>\n",
       "    <tr style=\"text-align: right;\">\n",
       "      <th></th>\n",
       "      <th>op_type</th>\n",
       "      <th>summary</th>\n",
       "      <th>ref</th>\n",
       "      <th>in</th>\n",
       "      <th>out</th>\n",
       "      <th>in1</th>\n",
       "      <th>booking_date</th>\n",
       "      <th>gross_price</th>\n",
       "      <th>net_price</th>\n",
       "      <th>booking_type</th>\n",
       "      <th>cancelled</th>\n",
       "    </tr>\n",
       "  </thead>\n",
       "  <tbody>\n",
       "    <tr>\n",
       "      <th>0</th>\n",
       "      <td>Turnup</td>\n",
       "      <td>Short Stay</td>\n",
       "      <td>201204010007555101169318-1</td>\n",
       "      <td>01-Apr-12</td>\n",
       "      <td>01-Apr-12</td>\n",
       "      <td>01-Apr-12</td>\n",
       "      <td>01-Apr-12</td>\n",
       "      <td>2.0</td>\n",
       "      <td>1.67</td>\n",
       "      <td>Turnup SS</td>\n",
       "      <td>0</td>\n",
       "    </tr>\n",
       "    <tr>\n",
       "      <th>1</th>\n",
       "      <td>Turnup</td>\n",
       "      <td>Short Stay</td>\n",
       "      <td>201204010108047701197792-1</td>\n",
       "      <td>01-Apr-12</td>\n",
       "      <td>01-Apr-12</td>\n",
       "      <td>01-Apr-12</td>\n",
       "      <td>01-Apr-12</td>\n",
       "      <td>3.0</td>\n",
       "      <td>2.50</td>\n",
       "      <td>Turnup SS</td>\n",
       "      <td>0</td>\n",
       "    </tr>\n",
       "  </tbody>\n",
       "</table>\n",
       "</div>"
      ],
      "text/plain": [
       "  op_type     summary                         ref         in        out  \\\n",
       "0  Turnup  Short Stay  201204010007555101169318-1  01-Apr-12  01-Apr-12   \n",
       "1  Turnup  Short Stay  201204010108047701197792-1  01-Apr-12  01-Apr-12   \n",
       "\n",
       "         in1 booking_date  gross_price  net_price booking_type  cancelled  \n",
       "0  01-Apr-12    01-Apr-12          2.0       1.67    Turnup SS          0  \n",
       "1  01-Apr-12    01-Apr-12          3.0       2.50    Turnup SS          0  "
      ]
     },
     "execution_count": 22,
     "metadata": {},
     "output_type": "execute_result"
    }
   ],
   "source": [
    "p13.head(2)"
   ]
  },
  {
   "cell_type": "markdown",
   "metadata": {},
   "source": [
    "# Converting dates to datetime"
   ]
  },
  {
   "cell_type": "code",
   "execution_count": 23,
   "metadata": {
    "collapsed": false
   },
   "outputs": [],
   "source": [
    "flights['Scheduled Date']=pd.to_datetime(flights['Scheduled Date'], format='%d/%m/%Y')"
   ]
  },
  {
   "cell_type": "code",
   "execution_count": 24,
   "metadata": {
    "collapsed": false
   },
   "outputs": [],
   "source": [
    "flights['Actual Date Time']=pd.to_datetime(flights['Actual Date Time'], format='%d/%m/%Y %H:%M')"
   ]
  },
  {
   "cell_type": "code",
   "execution_count": 25,
   "metadata": {
    "collapsed": true
   },
   "outputs": [],
   "source": [
    "flights['Scheduled Date Time']=pd.to_datetime(flights['Scheduled Date Time'], format='%d/%m/%Y %H:%M')"
   ]
  },
  {
   "cell_type": "code",
   "execution_count": 26,
   "metadata": {
    "collapsed": false
   },
   "outputs": [
    {
     "data": {
      "text/html": [
       "<div>\n",
       "<table border=\"1\" class=\"dataframe\">\n",
       "  <thead>\n",
       "    <tr style=\"text-align: right;\">\n",
       "      <th></th>\n",
       "      <th>MAG Airport Name</th>\n",
       "      <th>Scheduled Date</th>\n",
       "      <th>Operator IATA Code</th>\n",
       "      <th>Operator Name</th>\n",
       "      <th>Arriving or Departing Flag</th>\n",
       "      <th>Airport IATA Code</th>\n",
       "      <th>Airport Name</th>\n",
       "      <th>Actual Date Time</th>\n",
       "      <th>Scheduled Date Time</th>\n",
       "      <th># Pax</th>\n",
       "    </tr>\n",
       "  </thead>\n",
       "  <tbody>\n",
       "    <tr>\n",
       "      <th>0</th>\n",
       "      <td>East Midlands</td>\n",
       "      <td>2012-04-01</td>\n",
       "      <td>FR</td>\n",
       "      <td>RYANAIR</td>\n",
       "      <td>Arriving</td>\n",
       "      <td>RHO</td>\n",
       "      <td>Rhodes (Paradisi)</td>\n",
       "      <td>2012-04-01 00:11:00</td>\n",
       "      <td>2012-04-01 00:05:00</td>\n",
       "      <td>5.0</td>\n",
       "    </tr>\n",
       "    <tr>\n",
       "      <th>1</th>\n",
       "      <td>East Midlands</td>\n",
       "      <td>2012-04-01</td>\n",
       "      <td>LS</td>\n",
       "      <td>JET2.COM</td>\n",
       "      <td>Arriving</td>\n",
       "      <td>TFS</td>\n",
       "      <td>Tenerife</td>\n",
       "      <td>2012-04-01 00:36:00</td>\n",
       "      <td>2012-04-01 00:20:00</td>\n",
       "      <td>125.0</td>\n",
       "    </tr>\n",
       "  </tbody>\n",
       "</table>\n",
       "</div>"
      ],
      "text/plain": [
       "  MAG Airport Name Scheduled Date Operator IATA Code Operator Name  \\\n",
       "0    East Midlands     2012-04-01                 FR       RYANAIR   \n",
       "1    East Midlands     2012-04-01                 LS      JET2.COM   \n",
       "\n",
       "  Arriving or Departing Flag Airport IATA Code       Airport Name  \\\n",
       "0                   Arriving               RHO  Rhodes (Paradisi)   \n",
       "1                   Arriving               TFS           Tenerife   \n",
       "\n",
       "     Actual Date Time Scheduled Date Time  # Pax  \n",
       "0 2012-04-01 00:11:00 2012-04-01 00:05:00    5.0  \n",
       "1 2012-04-01 00:36:00 2012-04-01 00:20:00  125.0  "
      ]
     },
     "execution_count": 26,
     "metadata": {},
     "output_type": "execute_result"
    }
   ],
   "source": [
    "flights.head(2)"
   ]
  },
  {
   "cell_type": "code",
   "execution_count": 29,
   "metadata": {
    "collapsed": false
   },
   "outputs": [],
   "source": [
    "p13['in']=pd.to_datetime(p13['in'], format='%d-%b-%y')\n",
    "p13['out']=pd.to_datetime(p13['out'],format='%d-%b-%y')\n",
    "p13['in1']=pd.to_datetime(p13['in1'],format='%d-%b-%y')"
   ]
  },
  {
   "cell_type": "code",
   "execution_count": 30,
   "metadata": {
    "collapsed": false
   },
   "outputs": [
    {
     "data": {
      "text/html": [
       "<div>\n",
       "<table border=\"1\" class=\"dataframe\">\n",
       "  <thead>\n",
       "    <tr style=\"text-align: right;\">\n",
       "      <th></th>\n",
       "      <th>op_type</th>\n",
       "      <th>summary</th>\n",
       "      <th>ref</th>\n",
       "      <th>in</th>\n",
       "      <th>out</th>\n",
       "      <th>in1</th>\n",
       "      <th>booking_date</th>\n",
       "      <th>gross_price</th>\n",
       "      <th>net_price</th>\n",
       "      <th>booking_type</th>\n",
       "      <th>cancelled</th>\n",
       "    </tr>\n",
       "  </thead>\n",
       "  <tbody>\n",
       "    <tr>\n",
       "      <th>0</th>\n",
       "      <td>Turnup</td>\n",
       "      <td>Short Stay</td>\n",
       "      <td>201204010007555101169318-1</td>\n",
       "      <td>2012-04-01</td>\n",
       "      <td>2012-04-01</td>\n",
       "      <td>2012-04-01</td>\n",
       "      <td>01-Apr-12</td>\n",
       "      <td>2.0</td>\n",
       "      <td>1.67</td>\n",
       "      <td>Turnup SS</td>\n",
       "      <td>0</td>\n",
       "    </tr>\n",
       "    <tr>\n",
       "      <th>1</th>\n",
       "      <td>Turnup</td>\n",
       "      <td>Short Stay</td>\n",
       "      <td>201204010108047701197792-1</td>\n",
       "      <td>2012-04-01</td>\n",
       "      <td>2012-04-01</td>\n",
       "      <td>2012-04-01</td>\n",
       "      <td>01-Apr-12</td>\n",
       "      <td>3.0</td>\n",
       "      <td>2.50</td>\n",
       "      <td>Turnup SS</td>\n",
       "      <td>0</td>\n",
       "    </tr>\n",
       "  </tbody>\n",
       "</table>\n",
       "</div>"
      ],
      "text/plain": [
       "  op_type     summary                         ref         in        out  \\\n",
       "0  Turnup  Short Stay  201204010007555101169318-1 2012-04-01 2012-04-01   \n",
       "1  Turnup  Short Stay  201204010108047701197792-1 2012-04-01 2012-04-01   \n",
       "\n",
       "         in1 booking_date  gross_price  net_price booking_type  cancelled  \n",
       "0 2012-04-01    01-Apr-12          2.0       1.67    Turnup SS          0  \n",
       "1 2012-04-01    01-Apr-12          3.0       2.50    Turnup SS          0  "
      ]
     },
     "execution_count": 30,
     "metadata": {},
     "output_type": "execute_result"
    }
   ],
   "source": [
    "p13.head(2)"
   ]
  },
  {
   "cell_type": "code",
   "execution_count": 31,
   "metadata": {
    "collapsed": true
   },
   "outputs": [],
   "source": [
    "p14['in']=pd.to_datetime(p14['in'],format='%d-%b-%y')\n",
    "p14['out']=pd.to_datetime(p14['out'],format='%d-%b-%y')\n",
    "p14['in1']=pd.to_datetime(p14['in1'],format='%d-%b-%y')"
   ]
  },
  {
   "cell_type": "code",
   "execution_count": 32,
   "metadata": {
    "collapsed": false
   },
   "outputs": [
    {
     "data": {
      "text/html": [
       "<div>\n",
       "<table border=\"1\" class=\"dataframe\">\n",
       "  <thead>\n",
       "    <tr style=\"text-align: right;\">\n",
       "      <th></th>\n",
       "      <th>op_type</th>\n",
       "      <th>summary</th>\n",
       "      <th>ref</th>\n",
       "      <th>in</th>\n",
       "      <th>out</th>\n",
       "      <th>in1</th>\n",
       "      <th>booking_date</th>\n",
       "      <th>gross_price</th>\n",
       "      <th>net_price</th>\n",
       "      <th>booking_type</th>\n",
       "      <th>cancelled</th>\n",
       "    </tr>\n",
       "  </thead>\n",
       "  <tbody>\n",
       "    <tr>\n",
       "      <th>0</th>\n",
       "      <td>Prebooked</td>\n",
       "      <td>Express Park</td>\n",
       "      <td>EWEP1294215</td>\n",
       "      <td>2013-04-01</td>\n",
       "      <td>2013-04-02</td>\n",
       "      <td>2013-04-01</td>\n",
       "      <td>25-MAR-13</td>\n",
       "      <td>23.99</td>\n",
       "      <td>19.99</td>\n",
       "      <td>Prebooked</td>\n",
       "      <td>0</td>\n",
       "    </tr>\n",
       "    <tr>\n",
       "      <th>1</th>\n",
       "      <td>Prebooked</td>\n",
       "      <td>Meet and Greet</td>\n",
       "      <td>XULN2</td>\n",
       "      <td>2013-04-01</td>\n",
       "      <td>2013-04-09</td>\n",
       "      <td>2013-04-01</td>\n",
       "      <td>27-MAR-13</td>\n",
       "      <td>62.67</td>\n",
       "      <td>38.12</td>\n",
       "      <td>Prebooked</td>\n",
       "      <td>0</td>\n",
       "    </tr>\n",
       "  </tbody>\n",
       "</table>\n",
       "</div>"
      ],
      "text/plain": [
       "     op_type         summary          ref         in        out        in1  \\\n",
       "0  Prebooked    Express Park  EWEP1294215 2013-04-01 2013-04-02 2013-04-01   \n",
       "1  Prebooked  Meet and Greet        XULN2 2013-04-01 2013-04-09 2013-04-01   \n",
       "\n",
       "  booking_date  gross_price  net_price booking_type  cancelled  \n",
       "0    25-MAR-13        23.99      19.99    Prebooked          0  \n",
       "1    27-MAR-13        62.67      38.12    Prebooked          0  "
      ]
     },
     "execution_count": 32,
     "metadata": {},
     "output_type": "execute_result"
    }
   ],
   "source": [
    "p14.head(2)"
   ]
  },
  {
   "cell_type": "code",
   "execution_count": 33,
   "metadata": {
    "collapsed": false
   },
   "outputs": [],
   "source": [
    "p15['in']=pd.to_datetime(p15['in'],format='%d-%b-%y')\n",
    "p15['out']=pd.to_datetime(p15['out'],format='%d-%b-%y')\n",
    "p15['in1']=pd.to_datetime(p15['in1'],format='%d-%b-%y')"
   ]
  },
  {
   "cell_type": "code",
   "execution_count": 34,
   "metadata": {
    "collapsed": false
   },
   "outputs": [
    {
     "data": {
      "text/html": [
       "<div>\n",
       "<table border=\"1\" class=\"dataframe\">\n",
       "  <thead>\n",
       "    <tr style=\"text-align: right;\">\n",
       "      <th></th>\n",
       "      <th>op_type</th>\n",
       "      <th>summary</th>\n",
       "      <th>ref</th>\n",
       "      <th>in</th>\n",
       "      <th>out</th>\n",
       "      <th>in1</th>\n",
       "      <th>booking_date</th>\n",
       "      <th>gross_price</th>\n",
       "      <th>net_price</th>\n",
       "      <th>booking_type</th>\n",
       "      <th>cancelled</th>\n",
       "    </tr>\n",
       "  </thead>\n",
       "  <tbody>\n",
       "    <tr>\n",
       "      <th>0</th>\n",
       "      <td>Prebooked</td>\n",
       "      <td>JetParks Plus</td>\n",
       "      <td>EX521720707</td>\n",
       "      <td>2014-04-01</td>\n",
       "      <td>2014-04-08</td>\n",
       "      <td>2014-04-01</td>\n",
       "      <td>31-JAN-14</td>\n",
       "      <td>16.44</td>\n",
       "      <td>10.00</td>\n",
       "      <td>Prebooked</td>\n",
       "      <td>0</td>\n",
       "    </tr>\n",
       "    <tr>\n",
       "      <th>1</th>\n",
       "      <td>Turnup</td>\n",
       "      <td>Short Stay</td>\n",
       "      <td>EMA_FY2015_MANUAL_20140401_SSCP</td>\n",
       "      <td>2014-04-01</td>\n",
       "      <td>2014-04-01</td>\n",
       "      <td>2014-04-01</td>\n",
       "      <td>01-APR-14</td>\n",
       "      <td>4061.75</td>\n",
       "      <td>3384.79</td>\n",
       "      <td>Turnup SS</td>\n",
       "      <td>0</td>\n",
       "    </tr>\n",
       "  </tbody>\n",
       "</table>\n",
       "</div>"
      ],
      "text/plain": [
       "     op_type        summary                              ref         in  \\\n",
       "0  Prebooked  JetParks Plus                      EX521720707 2014-04-01   \n",
       "1     Turnup     Short Stay  EMA_FY2015_MANUAL_20140401_SSCP 2014-04-01   \n",
       "\n",
       "         out        in1 booking_date  gross_price  net_price booking_type  \\\n",
       "0 2014-04-08 2014-04-01    31-JAN-14        16.44      10.00    Prebooked   \n",
       "1 2014-04-01 2014-04-01    01-APR-14      4061.75    3384.79    Turnup SS   \n",
       "\n",
       "   cancelled  \n",
       "0          0  \n",
       "1          0  "
      ]
     },
     "execution_count": 34,
     "metadata": {},
     "output_type": "execute_result"
    }
   ],
   "source": [
    "p15.head(2)"
   ]
  },
  {
   "cell_type": "markdown",
   "metadata": {},
   "source": [
    "# Merging data"
   ]
  },
  {
   "cell_type": "code",
   "execution_count": 35,
   "metadata": {
    "collapsed": true
   },
   "outputs": [],
   "source": [
    "frames = [p13, p14, p15]"
   ]
  },
  {
   "cell_type": "code",
   "execution_count": 36,
   "metadata": {
    "collapsed": true
   },
   "outputs": [],
   "source": [
    "p = pd.concat(frames)"
   ]
  },
  {
   "cell_type": "code",
   "execution_count": 37,
   "metadata": {
    "collapsed": false
   },
   "outputs": [
    {
     "data": {
      "text/plain": [
       "2346331"
      ]
     },
     "execution_count": 37,
     "metadata": {},
     "output_type": "execute_result"
    }
   ],
   "source": [
    "len(p13)+len(p14)+len(p15)"
   ]
  },
  {
   "cell_type": "code",
   "execution_count": 38,
   "metadata": {
    "collapsed": false
   },
   "outputs": [
    {
     "data": {
      "text/plain": [
       "2346331"
      ]
     },
     "execution_count": 38,
     "metadata": {},
     "output_type": "execute_result"
    }
   ],
   "source": [
    "len(p)"
   ]
  },
  {
   "cell_type": "markdown",
   "metadata": {},
   "source": [
    "# Finding out how many cars are parked each day\n",
    "For more accurate numbers, an offset would have to be computed based on the number of cars that leave over time for which no entry records are available in these datasets "
   ]
  },
  {
   "cell_type": "code",
   "execution_count": 39,
   "metadata": {
    "collapsed": false
   },
   "outputs": [],
   "source": [
    "entry = p.groupby('in').count().drop('op_type',1).drop('ref',1).drop('out',1).drop('in1', 1).drop('booking_date',1).drop('gross_price',1).drop('net_price',1).drop('booking_type',1).drop('cancelled',1)"
   ]
  },
  {
   "cell_type": "code",
   "execution_count": 40,
   "metadata": {
    "collapsed": false
   },
   "outputs": [
    {
     "data": {
      "text/html": [
       "<div>\n",
       "<table border=\"1\" class=\"dataframe\">\n",
       "  <thead>\n",
       "    <tr style=\"text-align: right;\">\n",
       "      <th></th>\n",
       "      <th>summary</th>\n",
       "    </tr>\n",
       "    <tr>\n",
       "      <th>in</th>\n",
       "      <th></th>\n",
       "    </tr>\n",
       "  </thead>\n",
       "  <tbody>\n",
       "    <tr>\n",
       "      <th>2015-03-27</th>\n",
       "      <td>1584</td>\n",
       "    </tr>\n",
       "    <tr>\n",
       "      <th>2015-03-28</th>\n",
       "      <td>1467</td>\n",
       "    </tr>\n",
       "    <tr>\n",
       "      <th>2015-03-29</th>\n",
       "      <td>2042</td>\n",
       "    </tr>\n",
       "    <tr>\n",
       "      <th>2015-03-30</th>\n",
       "      <td>1925</td>\n",
       "    </tr>\n",
       "    <tr>\n",
       "      <th>2015-03-31</th>\n",
       "      <td>2300</td>\n",
       "    </tr>\n",
       "  </tbody>\n",
       "</table>\n",
       "</div>"
      ],
      "text/plain": [
       "            summary\n",
       "in                 \n",
       "2015-03-27     1584\n",
       "2015-03-28     1467\n",
       "2015-03-29     2042\n",
       "2015-03-30     1925\n",
       "2015-03-31     2300"
      ]
     },
     "execution_count": 40,
     "metadata": {},
     "output_type": "execute_result"
    }
   ],
   "source": [
    "entry.tail()"
   ]
  },
  {
   "cell_type": "code",
   "execution_count": 41,
   "metadata": {
    "collapsed": false
   },
   "outputs": [],
   "source": [
    "ex = p.groupby('out').count().drop('op_type',1).drop('ref',1).drop('in',1).drop('in1', 1).drop('booking_date',1).drop('gross_price',1).drop('net_price',1).drop('booking_type',1).drop('cancelled',1)"
   ]
  },
  {
   "cell_type": "code",
   "execution_count": 42,
   "metadata": {
    "collapsed": false
   },
   "outputs": [
    {
     "data": {
      "text/html": [
       "<div>\n",
       "<table border=\"1\" class=\"dataframe\">\n",
       "  <thead>\n",
       "    <tr style=\"text-align: right;\">\n",
       "      <th></th>\n",
       "      <th>summary</th>\n",
       "    </tr>\n",
       "    <tr>\n",
       "      <th>out</th>\n",
       "      <th></th>\n",
       "    </tr>\n",
       "  </thead>\n",
       "  <tbody>\n",
       "    <tr>\n",
       "      <th>2016-10-27</th>\n",
       "      <td>1</td>\n",
       "    </tr>\n",
       "    <tr>\n",
       "      <th>2016-10-31</th>\n",
       "      <td>1</td>\n",
       "    </tr>\n",
       "    <tr>\n",
       "      <th>2016-11-13</th>\n",
       "      <td>1</td>\n",
       "    </tr>\n",
       "    <tr>\n",
       "      <th>2016-11-20</th>\n",
       "      <td>1</td>\n",
       "    </tr>\n",
       "    <tr>\n",
       "      <th>2016-12-31</th>\n",
       "      <td>37</td>\n",
       "    </tr>\n",
       "  </tbody>\n",
       "</table>\n",
       "</div>"
      ],
      "text/plain": [
       "            summary\n",
       "out                \n",
       "2016-10-27        1\n",
       "2016-10-31        1\n",
       "2016-11-13        1\n",
       "2016-11-20        1\n",
       "2016-12-31       37"
      ]
     },
     "execution_count": 42,
     "metadata": {},
     "output_type": "execute_result"
    }
   ],
   "source": [
    "ex.tail()"
   ]
  },
  {
   "cell_type": "code",
   "execution_count": 43,
   "metadata": {
    "collapsed": false
   },
   "outputs": [],
   "source": [
    "carsByDay = entry-ex"
   ]
  },
  {
   "cell_type": "code",
   "execution_count": 44,
   "metadata": {
    "collapsed": false
   },
   "outputs": [
    {
     "data": {
      "text/html": [
       "<div>\n",
       "<table border=\"1\" class=\"dataframe\">\n",
       "  <thead>\n",
       "    <tr style=\"text-align: right;\">\n",
       "      <th></th>\n",
       "      <th>summary</th>\n",
       "    </tr>\n",
       "  </thead>\n",
       "  <tbody>\n",
       "    <tr>\n",
       "      <th>2016-10-27</th>\n",
       "      <td>NaN</td>\n",
       "    </tr>\n",
       "    <tr>\n",
       "      <th>2016-10-31</th>\n",
       "      <td>NaN</td>\n",
       "    </tr>\n",
       "    <tr>\n",
       "      <th>2016-11-13</th>\n",
       "      <td>NaN</td>\n",
       "    </tr>\n",
       "    <tr>\n",
       "      <th>2016-11-20</th>\n",
       "      <td>NaN</td>\n",
       "    </tr>\n",
       "    <tr>\n",
       "      <th>2016-12-31</th>\n",
       "      <td>NaN</td>\n",
       "    </tr>\n",
       "  </tbody>\n",
       "</table>\n",
       "</div>"
      ],
      "text/plain": [
       "            summary\n",
       "2016-10-27      NaN\n",
       "2016-10-31      NaN\n",
       "2016-11-13      NaN\n",
       "2016-11-20      NaN\n",
       "2016-12-31      NaN"
      ]
     },
     "execution_count": 44,
     "metadata": {},
     "output_type": "execute_result"
    }
   ],
   "source": [
    "carsByDay.tail()"
   ]
  },
  {
   "cell_type": "code",
   "execution_count": 45,
   "metadata": {
    "collapsed": false
   },
   "outputs": [],
   "source": [
    "carsByDay=carsByDay.rename(columns={\"summary\":\"Count\"});"
   ]
  },
  {
   "cell_type": "code",
   "execution_count": 46,
   "metadata": {
    "collapsed": false
   },
   "outputs": [
    {
     "data": {
      "text/html": [
       "<div>\n",
       "<table border=\"1\" class=\"dataframe\">\n",
       "  <thead>\n",
       "    <tr style=\"text-align: right;\">\n",
       "      <th></th>\n",
       "      <th>Count</th>\n",
       "    </tr>\n",
       "  </thead>\n",
       "  <tbody>\n",
       "    <tr>\n",
       "      <th>2012-04-01</th>\n",
       "      <td>1529.0</td>\n",
       "    </tr>\n",
       "    <tr>\n",
       "      <th>2012-04-02</th>\n",
       "      <td>1407.0</td>\n",
       "    </tr>\n",
       "    <tr>\n",
       "      <th>2012-04-03</th>\n",
       "      <td>1035.0</td>\n",
       "    </tr>\n",
       "    <tr>\n",
       "      <th>2012-04-04</th>\n",
       "      <td>798.0</td>\n",
       "    </tr>\n",
       "    <tr>\n",
       "      <th>2012-04-05</th>\n",
       "      <td>1076.0</td>\n",
       "    </tr>\n",
       "  </tbody>\n",
       "</table>\n",
       "</div>"
      ],
      "text/plain": [
       "             Count\n",
       "2012-04-01  1529.0\n",
       "2012-04-02  1407.0\n",
       "2012-04-03  1035.0\n",
       "2012-04-04   798.0\n",
       "2012-04-05  1076.0"
      ]
     },
     "execution_count": 46,
     "metadata": {},
     "output_type": "execute_result"
    }
   ],
   "source": [
    "carsByDay.head()"
   ]
  },
  {
   "cell_type": "markdown",
   "metadata": {},
   "source": [
    "# Finding out how many flights arrive and depart each day\n",
    "In the future, I would take into account the fact that arriving flights tend to produce a decrease of cars in the parking lot (if some passengers left the car parked while they were away), and similarly, departing flights tend to cause an increase of cars in the parking lot."
   ]
  },
  {
   "cell_type": "code",
   "execution_count": 47,
   "metadata": {
    "collapsed": false
   },
   "outputs": [
    {
     "data": {
      "text/html": [
       "<div>\n",
       "<table border=\"1\" class=\"dataframe\">\n",
       "  <thead>\n",
       "    <tr style=\"text-align: right;\">\n",
       "      <th></th>\n",
       "      <th>MAG Airport Name</th>\n",
       "      <th>Scheduled Date</th>\n",
       "      <th>Operator IATA Code</th>\n",
       "      <th>Operator Name</th>\n",
       "      <th>Arriving or Departing Flag</th>\n",
       "      <th>Airport IATA Code</th>\n",
       "      <th>Airport Name</th>\n",
       "      <th>Actual Date Time</th>\n",
       "      <th>Scheduled Date Time</th>\n",
       "      <th># Pax</th>\n",
       "    </tr>\n",
       "  </thead>\n",
       "  <tbody>\n",
       "    <tr>\n",
       "      <th>0</th>\n",
       "      <td>East Midlands</td>\n",
       "      <td>2012-04-01</td>\n",
       "      <td>FR</td>\n",
       "      <td>RYANAIR</td>\n",
       "      <td>Arriving</td>\n",
       "      <td>RHO</td>\n",
       "      <td>Rhodes (Paradisi)</td>\n",
       "      <td>2012-04-01 00:11:00</td>\n",
       "      <td>2012-04-01 00:05:00</td>\n",
       "      <td>5.0</td>\n",
       "    </tr>\n",
       "    <tr>\n",
       "      <th>1</th>\n",
       "      <td>East Midlands</td>\n",
       "      <td>2012-04-01</td>\n",
       "      <td>LS</td>\n",
       "      <td>JET2.COM</td>\n",
       "      <td>Arriving</td>\n",
       "      <td>TFS</td>\n",
       "      <td>Tenerife</td>\n",
       "      <td>2012-04-01 00:36:00</td>\n",
       "      <td>2012-04-01 00:20:00</td>\n",
       "      <td>125.0</td>\n",
       "    </tr>\n",
       "    <tr>\n",
       "      <th>2</th>\n",
       "      <td>East Midlands</td>\n",
       "      <td>2012-04-01</td>\n",
       "      <td>TCX</td>\n",
       "      <td>THOMAS COOK AIRLINES</td>\n",
       "      <td>Arriving</td>\n",
       "      <td>AYT</td>\n",
       "      <td>Antalya</td>\n",
       "      <td>2012-04-01 01:01:00</td>\n",
       "      <td>2012-04-01 01:10:00</td>\n",
       "      <td>212.0</td>\n",
       "    </tr>\n",
       "    <tr>\n",
       "      <th>3</th>\n",
       "      <td>East Midlands</td>\n",
       "      <td>2012-04-01</td>\n",
       "      <td>TOM</td>\n",
       "      <td>THOMSON AIRWAYS</td>\n",
       "      <td>Arriving</td>\n",
       "      <td>LPA</td>\n",
       "      <td>Gran Canaria</td>\n",
       "      <td>2012-04-01 00:51:00</td>\n",
       "      <td>2012-04-01 01:15:00</td>\n",
       "      <td>176.0</td>\n",
       "    </tr>\n",
       "    <tr>\n",
       "      <th>4</th>\n",
       "      <td>East Midlands</td>\n",
       "      <td>2012-04-01</td>\n",
       "      <td>TOM</td>\n",
       "      <td>THOMSON AIRWAYS</td>\n",
       "      <td>Arriving</td>\n",
       "      <td>PFO</td>\n",
       "      <td>Paphos</td>\n",
       "      <td>2012-04-01 01:31:00</td>\n",
       "      <td>2012-04-01 01:55:00</td>\n",
       "      <td>0.0</td>\n",
       "    </tr>\n",
       "  </tbody>\n",
       "</table>\n",
       "</div>"
      ],
      "text/plain": [
       "  MAG Airport Name Scheduled Date Operator IATA Code         Operator Name  \\\n",
       "0    East Midlands     2012-04-01                 FR               RYANAIR   \n",
       "1    East Midlands     2012-04-01                 LS              JET2.COM   \n",
       "2    East Midlands     2012-04-01                TCX  THOMAS COOK AIRLINES   \n",
       "3    East Midlands     2012-04-01                TOM       THOMSON AIRWAYS   \n",
       "4    East Midlands     2012-04-01                TOM       THOMSON AIRWAYS   \n",
       "\n",
       "  Arriving or Departing Flag Airport IATA Code       Airport Name  \\\n",
       "0                   Arriving               RHO  Rhodes (Paradisi)   \n",
       "1                   Arriving               TFS           Tenerife   \n",
       "2                   Arriving               AYT            Antalya   \n",
       "3                   Arriving               LPA       Gran Canaria   \n",
       "4                   Arriving               PFO             Paphos   \n",
       "\n",
       "     Actual Date Time Scheduled Date Time  # Pax  \n",
       "0 2012-04-01 00:11:00 2012-04-01 00:05:00    5.0  \n",
       "1 2012-04-01 00:36:00 2012-04-01 00:20:00  125.0  \n",
       "2 2012-04-01 01:01:00 2012-04-01 01:10:00  212.0  \n",
       "3 2012-04-01 00:51:00 2012-04-01 01:15:00  176.0  \n",
       "4 2012-04-01 01:31:00 2012-04-01 01:55:00    0.0  "
      ]
     },
     "execution_count": 47,
     "metadata": {},
     "output_type": "execute_result"
    }
   ],
   "source": [
    "flights.head()"
   ]
  },
  {
   "cell_type": "code",
   "execution_count": 48,
   "metadata": {
    "collapsed": false
   },
   "outputs": [],
   "source": [
    "fl=flights"
   ]
  },
  {
   "cell_type": "code",
   "execution_count": 49,
   "metadata": {
    "collapsed": false
   },
   "outputs": [
    {
     "data": {
      "text/html": [
       "<div>\n",
       "<table border=\"1\" class=\"dataframe\">\n",
       "  <thead>\n",
       "    <tr style=\"text-align: right;\">\n",
       "      <th></th>\n",
       "      <th>MAG Airport Name</th>\n",
       "      <th>Scheduled Date</th>\n",
       "      <th>Operator IATA Code</th>\n",
       "      <th>Operator Name</th>\n",
       "      <th>Arriving or Departing Flag</th>\n",
       "      <th>Airport IATA Code</th>\n",
       "      <th>Airport Name</th>\n",
       "      <th>Actual Date Time</th>\n",
       "      <th>Scheduled Date Time</th>\n",
       "      <th># Pax</th>\n",
       "    </tr>\n",
       "  </thead>\n",
       "  <tbody>\n",
       "    <tr>\n",
       "      <th>0</th>\n",
       "      <td>East Midlands</td>\n",
       "      <td>2012-04-01</td>\n",
       "      <td>FR</td>\n",
       "      <td>RYANAIR</td>\n",
       "      <td>Arriving</td>\n",
       "      <td>RHO</td>\n",
       "      <td>Rhodes (Paradisi)</td>\n",
       "      <td>2012-04-01</td>\n",
       "      <td>2012-04-01 00:05:00</td>\n",
       "      <td>5.0</td>\n",
       "    </tr>\n",
       "    <tr>\n",
       "      <th>1</th>\n",
       "      <td>East Midlands</td>\n",
       "      <td>2012-04-01</td>\n",
       "      <td>LS</td>\n",
       "      <td>JET2.COM</td>\n",
       "      <td>Arriving</td>\n",
       "      <td>TFS</td>\n",
       "      <td>Tenerife</td>\n",
       "      <td>2012-04-01</td>\n",
       "      <td>2012-04-01 00:20:00</td>\n",
       "      <td>125.0</td>\n",
       "    </tr>\n",
       "    <tr>\n",
       "      <th>2</th>\n",
       "      <td>East Midlands</td>\n",
       "      <td>2012-04-01</td>\n",
       "      <td>TCX</td>\n",
       "      <td>THOMAS COOK AIRLINES</td>\n",
       "      <td>Arriving</td>\n",
       "      <td>AYT</td>\n",
       "      <td>Antalya</td>\n",
       "      <td>2012-04-01</td>\n",
       "      <td>2012-04-01 01:10:00</td>\n",
       "      <td>212.0</td>\n",
       "    </tr>\n",
       "    <tr>\n",
       "      <th>3</th>\n",
       "      <td>East Midlands</td>\n",
       "      <td>2012-04-01</td>\n",
       "      <td>TOM</td>\n",
       "      <td>THOMSON AIRWAYS</td>\n",
       "      <td>Arriving</td>\n",
       "      <td>LPA</td>\n",
       "      <td>Gran Canaria</td>\n",
       "      <td>2012-04-01</td>\n",
       "      <td>2012-04-01 01:15:00</td>\n",
       "      <td>176.0</td>\n",
       "    </tr>\n",
       "    <tr>\n",
       "      <th>4</th>\n",
       "      <td>East Midlands</td>\n",
       "      <td>2012-04-01</td>\n",
       "      <td>TOM</td>\n",
       "      <td>THOMSON AIRWAYS</td>\n",
       "      <td>Arriving</td>\n",
       "      <td>PFO</td>\n",
       "      <td>Paphos</td>\n",
       "      <td>2012-04-01</td>\n",
       "      <td>2012-04-01 01:55:00</td>\n",
       "      <td>0.0</td>\n",
       "    </tr>\n",
       "  </tbody>\n",
       "</table>\n",
       "</div>"
      ],
      "text/plain": [
       "  MAG Airport Name Scheduled Date Operator IATA Code         Operator Name  \\\n",
       "0    East Midlands     2012-04-01                 FR               RYANAIR   \n",
       "1    East Midlands     2012-04-01                 LS              JET2.COM   \n",
       "2    East Midlands     2012-04-01                TCX  THOMAS COOK AIRLINES   \n",
       "3    East Midlands     2012-04-01                TOM       THOMSON AIRWAYS   \n",
       "4    East Midlands     2012-04-01                TOM       THOMSON AIRWAYS   \n",
       "\n",
       "  Arriving or Departing Flag Airport IATA Code       Airport Name  \\\n",
       "0                   Arriving               RHO  Rhodes (Paradisi)   \n",
       "1                   Arriving               TFS           Tenerife   \n",
       "2                   Arriving               AYT            Antalya   \n",
       "3                   Arriving               LPA       Gran Canaria   \n",
       "4                   Arriving               PFO             Paphos   \n",
       "\n",
       "  Actual Date Time Scheduled Date Time  # Pax  \n",
       "0       2012-04-01 2012-04-01 00:05:00    5.0  \n",
       "1       2012-04-01 2012-04-01 00:20:00  125.0  \n",
       "2       2012-04-01 2012-04-01 01:10:00  212.0  \n",
       "3       2012-04-01 2012-04-01 01:15:00  176.0  \n",
       "4       2012-04-01 2012-04-01 01:55:00    0.0  "
      ]
     },
     "execution_count": 49,
     "metadata": {},
     "output_type": "execute_result"
    }
   ],
   "source": [
    "fl['Actual Date Time']=fl['Actual Date Time'].map(lambda d: d.date())\n",
    "fl.head()"
   ]
  },
  {
   "cell_type": "code",
   "execution_count": 50,
   "metadata": {
    "collapsed": false
   },
   "outputs": [],
   "source": [
    "flightsByDay=fl.groupby('Actual Date Time').count().drop('MAG Airport Name',1).drop('Scheduled Date', 1).drop('Operator IATA Code',1).drop('Operator Name', 1).drop('Arriving or Departing Flag',1).drop('Airport IATA Code',1).drop('Scheduled Date Time', 1).drop('# Pax',1).rename(index=str, columns={\"Airport Name\":\"Count\"})"
   ]
  },
  {
   "cell_type": "code",
   "execution_count": 51,
   "metadata": {
    "collapsed": false
   },
   "outputs": [
    {
     "data": {
      "text/html": [
       "<div>\n",
       "<table border=\"1\" class=\"dataframe\">\n",
       "  <thead>\n",
       "    <tr style=\"text-align: right;\">\n",
       "      <th></th>\n",
       "      <th>Count</th>\n",
       "    </tr>\n",
       "    <tr>\n",
       "      <th>Actual Date Time</th>\n",
       "      <th></th>\n",
       "    </tr>\n",
       "  </thead>\n",
       "  <tbody>\n",
       "    <tr>\n",
       "      <th>2012-04-01</th>\n",
       "      <td>128</td>\n",
       "    </tr>\n",
       "    <tr>\n",
       "      <th>2012-04-02</th>\n",
       "      <td>142</td>\n",
       "    </tr>\n",
       "    <tr>\n",
       "      <th>2012-04-03</th>\n",
       "      <td>183</td>\n",
       "    </tr>\n",
       "    <tr>\n",
       "      <th>2012-04-04</th>\n",
       "      <td>180</td>\n",
       "    </tr>\n",
       "    <tr>\n",
       "      <th>2012-04-05</th>\n",
       "      <td>191</td>\n",
       "    </tr>\n",
       "  </tbody>\n",
       "</table>\n",
       "</div>"
      ],
      "text/plain": [
       "                  Count\n",
       "Actual Date Time       \n",
       "2012-04-01          128\n",
       "2012-04-02          142\n",
       "2012-04-03          183\n",
       "2012-04-04          180\n",
       "2012-04-05          191"
      ]
     },
     "execution_count": 51,
     "metadata": {},
     "output_type": "execute_result"
    }
   ],
   "source": [
    "flightsByDay.head()"
   ]
  },
  {
   "cell_type": "markdown",
   "metadata": {},
   "source": [
    "# Joining number of flights and number of cars parked"
   ]
  },
  {
   "cell_type": "code",
   "execution_count": 52,
   "metadata": {
    "collapsed": false
   },
   "outputs": [],
   "source": [
    "flightsAndP = flightsByDay.merge(carsByDay, left_index=True, right_index=True, how='left')"
   ]
  },
  {
   "cell_type": "code",
   "execution_count": 53,
   "metadata": {
    "collapsed": false
   },
   "outputs": [],
   "source": [
    "flightsAndP=flightsAndP.rename(columns={\"Count_x\":\"flights\", \"Count_y\":\"cars\"});"
   ]
  },
  {
   "cell_type": "code",
   "execution_count": 54,
   "metadata": {
    "collapsed": false
   },
   "outputs": [
    {
     "data": {
      "text/html": [
       "<div>\n",
       "<table border=\"1\" class=\"dataframe\">\n",
       "  <thead>\n",
       "    <tr style=\"text-align: right;\">\n",
       "      <th></th>\n",
       "      <th>flights</th>\n",
       "      <th>cars</th>\n",
       "    </tr>\n",
       "  </thead>\n",
       "  <tbody>\n",
       "    <tr>\n",
       "      <th>2015-03-28</th>\n",
       "      <td>115</td>\n",
       "      <td>305.0</td>\n",
       "    </tr>\n",
       "    <tr>\n",
       "      <th>2015-03-29</th>\n",
       "      <td>99</td>\n",
       "      <td>490.0</td>\n",
       "    </tr>\n",
       "    <tr>\n",
       "      <th>2015-03-30</th>\n",
       "      <td>142</td>\n",
       "      <td>215.0</td>\n",
       "    </tr>\n",
       "    <tr>\n",
       "      <th>2015-03-31</th>\n",
       "      <td>176</td>\n",
       "      <td>985.0</td>\n",
       "    </tr>\n",
       "    <tr>\n",
       "      <th>2015-04-01</th>\n",
       "      <td>3</td>\n",
       "      <td>NaN</td>\n",
       "    </tr>\n",
       "  </tbody>\n",
       "</table>\n",
       "</div>"
      ],
      "text/plain": [
       "            flights   cars\n",
       "2015-03-28      115  305.0\n",
       "2015-03-29       99  490.0\n",
       "2015-03-30      142  215.0\n",
       "2015-03-31      176  985.0\n",
       "2015-04-01        3    NaN"
      ]
     },
     "execution_count": 54,
     "metadata": {},
     "output_type": "execute_result"
    }
   ],
   "source": [
    "flightsAndP.tail()"
   ]
  },
  {
   "cell_type": "code",
   "execution_count": 55,
   "metadata": {
    "collapsed": false
   },
   "outputs": [
    {
     "data": {
      "text/plain": [
       "flights    0\n",
       "cars       1\n",
       "dtype: int64"
      ]
     },
     "execution_count": 55,
     "metadata": {},
     "output_type": "execute_result"
    }
   ],
   "source": [
    "flightsAndP.isnull().sum()"
   ]
  },
  {
   "cell_type": "code",
   "execution_count": 56,
   "metadata": {
    "collapsed": false
   },
   "outputs": [],
   "source": [
    "flightsAndP=flightsAndP.ix[:-1];"
   ]
  },
  {
   "cell_type": "code",
   "execution_count": 57,
   "metadata": {
    "collapsed": false
   },
   "outputs": [
    {
     "data": {
      "text/html": [
       "<div>\n",
       "<table border=\"1\" class=\"dataframe\">\n",
       "  <thead>\n",
       "    <tr style=\"text-align: right;\">\n",
       "      <th></th>\n",
       "      <th>flights</th>\n",
       "      <th>cars</th>\n",
       "    </tr>\n",
       "  </thead>\n",
       "  <tbody>\n",
       "    <tr>\n",
       "      <th>2015-03-27</th>\n",
       "      <td>172</td>\n",
       "      <td>64.0</td>\n",
       "    </tr>\n",
       "    <tr>\n",
       "      <th>2015-03-28</th>\n",
       "      <td>115</td>\n",
       "      <td>305.0</td>\n",
       "    </tr>\n",
       "    <tr>\n",
       "      <th>2015-03-29</th>\n",
       "      <td>99</td>\n",
       "      <td>490.0</td>\n",
       "    </tr>\n",
       "    <tr>\n",
       "      <th>2015-03-30</th>\n",
       "      <td>142</td>\n",
       "      <td>215.0</td>\n",
       "    </tr>\n",
       "    <tr>\n",
       "      <th>2015-03-31</th>\n",
       "      <td>176</td>\n",
       "      <td>985.0</td>\n",
       "    </tr>\n",
       "  </tbody>\n",
       "</table>\n",
       "</div>"
      ],
      "text/plain": [
       "            flights   cars\n",
       "2015-03-27      172   64.0\n",
       "2015-03-28      115  305.0\n",
       "2015-03-29       99  490.0\n",
       "2015-03-30      142  215.0\n",
       "2015-03-31      176  985.0"
      ]
     },
     "execution_count": 57,
     "metadata": {},
     "output_type": "execute_result"
    }
   ],
   "source": [
    "flightsAndP.tail()"
   ]
  },
  {
   "cell_type": "markdown",
   "metadata": {},
   "source": [
    "# Fitting a model"
   ]
  },
  {
   "cell_type": "code",
   "execution_count": 58,
   "metadata": {
    "collapsed": true
   },
   "outputs": [],
   "source": [
    "random.seed(123)\n",
    "train, validation = train_test_split(flightsAndP, test_size=0.2)"
   ]
  },
  {
   "cell_type": "code",
   "execution_count": 59,
   "metadata": {
    "collapsed": false
   },
   "outputs": [],
   "source": [
    "model = sm.ols(formula = \"cars ~ flights\", data = train).fit()"
   ]
  },
  {
   "cell_type": "code",
   "execution_count": 60,
   "metadata": {
    "collapsed": false
   },
   "outputs": [],
   "source": [
    "predictions = model.predict(validation)"
   ]
  },
  {
   "cell_type": "code",
   "execution_count": 61,
   "metadata": {
    "collapsed": false
   },
   "outputs": [
    {
     "data": {
      "text/html": [
       "<table class=\"simpletable\">\n",
       "<caption>OLS Regression Results</caption>\n",
       "<tr>\n",
       "  <th>Dep. Variable:</th>          <td>cars</td>       <th>  R-squared:         </th> <td>   0.040</td> \n",
       "</tr>\n",
       "<tr>\n",
       "  <th>Model:</th>                   <td>OLS</td>       <th>  Adj. R-squared:    </th> <td>   0.039</td> \n",
       "</tr>\n",
       "<tr>\n",
       "  <th>Method:</th>             <td>Least Squares</td>  <th>  F-statistic:       </th> <td>   36.42</td> \n",
       "</tr>\n",
       "<tr>\n",
       "  <th>Date:</th>             <td>Fri, 30 Sep 2016</td> <th>  Prob (F-statistic):</th> <td>2.34e-09</td> \n",
       "</tr>\n",
       "<tr>\n",
       "  <th>Time:</th>                 <td>14:36:48</td>     <th>  Log-Likelihood:    </th> <td> -6323.9</td> \n",
       "</tr>\n",
       "<tr>\n",
       "  <th>No. Observations:</th>      <td>   876</td>      <th>  AIC:               </th> <td>1.265e+04</td>\n",
       "</tr>\n",
       "<tr>\n",
       "  <th>Df Residuals:</th>          <td>   874</td>      <th>  BIC:               </th> <td>1.266e+04</td>\n",
       "</tr>\n",
       "<tr>\n",
       "  <th>Df Model:</th>              <td>     1</td>      <th>                     </th>     <td> </td>    \n",
       "</tr>\n",
       "<tr>\n",
       "  <th>Covariance Type:</th>      <td>nonrobust</td>    <th>                     </th>     <td> </td>    \n",
       "</tr>\n",
       "</table>\n",
       "<table class=\"simpletable\">\n",
       "<tr>\n",
       "      <td></td>         <th>coef</th>     <th>std err</th>      <th>t</th>      <th>P>|t|</th>  <th>[0.025</th>    <th>0.975]</th>  \n",
       "</tr>\n",
       "<tr>\n",
       "  <th>Intercept</th> <td> -253.4742</td> <td>   45.378</td> <td>   -5.586</td> <td> 0.000</td> <td> -342.536</td> <td> -164.412</td>\n",
       "</tr>\n",
       "<tr>\n",
       "  <th>flights</th>   <td>    1.6826</td> <td>    0.279</td> <td>    6.035</td> <td> 0.000</td> <td>    1.135</td> <td>    2.230</td>\n",
       "</tr>\n",
       "</table>\n",
       "<table class=\"simpletable\">\n",
       "<tr>\n",
       "  <th>Omnibus:</th>       <td>163.512</td> <th>  Durbin-Watson:     </th> <td>   1.965</td> \n",
       "</tr>\n",
       "<tr>\n",
       "  <th>Prob(Omnibus):</th> <td> 0.000</td>  <th>  Jarque-Bera (JB):  </th> <td> 993.352</td> \n",
       "</tr>\n",
       "<tr>\n",
       "  <th>Skew:</th>          <td> 0.694</td>  <th>  Prob(JB):          </th> <td>1.98e-216</td>\n",
       "</tr>\n",
       "<tr>\n",
       "  <th>Kurtosis:</th>      <td> 8.029</td>  <th>  Cond. No.          </th> <td>    661.</td> \n",
       "</tr>\n",
       "</table>"
      ],
      "text/plain": [
       "<class 'statsmodels.iolib.summary.Summary'>\n",
       "\"\"\"\n",
       "                            OLS Regression Results                            \n",
       "==============================================================================\n",
       "Dep. Variable:                   cars   R-squared:                       0.040\n",
       "Model:                            OLS   Adj. R-squared:                  0.039\n",
       "Method:                 Least Squares   F-statistic:                     36.42\n",
       "Date:                Fri, 30 Sep 2016   Prob (F-statistic):           2.34e-09\n",
       "Time:                        14:36:48   Log-Likelihood:                -6323.9\n",
       "No. Observations:                 876   AIC:                         1.265e+04\n",
       "Df Residuals:                     874   BIC:                         1.266e+04\n",
       "Df Model:                           1                                         \n",
       "Covariance Type:            nonrobust                                         \n",
       "==============================================================================\n",
       "                 coef    std err          t      P>|t|      [0.025      0.975]\n",
       "------------------------------------------------------------------------------\n",
       "Intercept   -253.4742     45.378     -5.586      0.000    -342.536    -164.412\n",
       "flights        1.6826      0.279      6.035      0.000       1.135       2.230\n",
       "==============================================================================\n",
       "Omnibus:                      163.512   Durbin-Watson:                   1.965\n",
       "Prob(Omnibus):                  0.000   Jarque-Bera (JB):              993.352\n",
       "Skew:                           0.694   Prob(JB):                    1.98e-216\n",
       "Kurtosis:                       8.029   Cond. No.                         661.\n",
       "==============================================================================\n",
       "\n",
       "Warnings:\n",
       "[1] Standard Errors assume that the covariance matrix of the errors is correctly specified.\n",
       "\"\"\""
      ]
     },
     "execution_count": 61,
     "metadata": {},
     "output_type": "execute_result"
    }
   ],
   "source": [
    "model.summary()"
   ]
  },
  {
   "cell_type": "code",
   "execution_count": 62,
   "metadata": {
    "collapsed": false
   },
   "outputs": [
    {
     "data": {
      "image/png": "[encoded data removed]",
      "text/plain": [
       "<matplotlib.figure.Figure at 0x14271f390>"
      ]
     },
     "metadata": {},
     "output_type": "display_data"
    }
   ],
   "source": [
    "x1 = sap.graphics.plot_regress_exog(model, 1)"
   ]
  },
  {
   "cell_type": "code",
   "execution_count": 63,
   "metadata": {
    "collapsed": false
   },
   "outputs": [
    {
     "data": {
      "image/png": "[encoded data removed]",
      "text/plain": [
       "<matplotlib.figure.Figure at 0x13b79bef0>"
      ]
     },
     "metadata": {},
     "output_type": "display_data"
    }
   ],
   "source": [
    "sap.graphics.plot_fit(model, \"flights\");"
   ]
  },
  {
   "cell_type": "markdown",
   "metadata": {},
   "source": [
    "# Taking into account arriving vs. departing flights"
   ]
  },
  {
   "cell_type": "code",
   "execution_count": 64,
   "metadata": {
    "collapsed": true
   },
   "outputs": [],
   "source": [
    "arrivals = flights.loc[flights['Arriving or Departing Flag'] == 'Arriving']"
   ]
  },
  {
   "cell_type": "code",
   "execution_count": 65,
   "metadata": {
    "collapsed": false
   },
   "outputs": [],
   "source": [
    "departures = flights.loc[flights['Arriving or Departing Flag'] == 'Departing']"
   ]
  },
  {
   "cell_type": "code",
   "execution_count": 66,
   "metadata": {
    "collapsed": false
   },
   "outputs": [],
   "source": [
    "arrByDay=arrivals.groupby('Actual Date Time').count().drop('MAG Airport Name',1).drop('Scheduled Date', 1).drop('Operator IATA Code',1).drop('Operator Name', 1).drop('Arriving or Departing Flag',1).drop('Airport IATA Code',1).drop('Scheduled Date Time', 1).drop('# Pax',1).rename(index=str, columns={\"Airport Name\":\"Count\"})\n",
    "depByDay=departures.groupby('Actual Date Time').count().drop('MAG Airport Name',1).drop('Scheduled Date', 1).drop('Operator IATA Code',1).drop('Operator Name', 1).drop('Arriving or Departing Flag',1).drop('Airport IATA Code',1).drop('Scheduled Date Time', 1).drop('# Pax',1).rename(index=str, columns={\"Airport Name\":\"Count\"})"
   ]
  },
  {
   "cell_type": "code",
   "execution_count": 67,
   "metadata": {
    "collapsed": true
   },
   "outputs": [],
   "source": [
    "arrAndP = arrByDay.merge(carsByDay, left_index=True, right_index=True, how='left')\n",
    "arrAndP=arrAndP.rename(columns={\"Count_x\":\"arrivals\", \"Count_y\":\"cars\"})\n",
    "depAndP = depByDay.merge(carsByDay, left_index=True, right_index=True, how='left')\n",
    "depAndP=depAndP.rename(columns={\"Count_x\":\"departures\", \"Count_y\":\"cars\"})\n",
    "allJoined = arrAndP.merge(depByDay, left_index=True, right_index=True, how='left')\n",
    "allJoined=allJoined.rename(columns={\"Count\":\"departures\"})\n",
    "allJoined=allJoined.ix[:-1];"
   ]
  },
  {
   "cell_type": "code",
   "execution_count": 68,
   "metadata": {
    "collapsed": false
   },
   "outputs": [
    {
     "data": {
      "text/html": [
       "<div>\n",
       "<table border=\"1\" class=\"dataframe\">\n",
       "  <thead>\n",
       "    <tr style=\"text-align: right;\">\n",
       "      <th></th>\n",
       "      <th>arrivals</th>\n",
       "      <th>cars</th>\n",
       "      <th>departures</th>\n",
       "    </tr>\n",
       "  </thead>\n",
       "  <tbody>\n",
       "    <tr>\n",
       "      <th>2015-03-27</th>\n",
       "      <td>84</td>\n",
       "      <td>64.0</td>\n",
       "      <td>88.0</td>\n",
       "    </tr>\n",
       "    <tr>\n",
       "      <th>2015-03-28</th>\n",
       "      <td>54</td>\n",
       "      <td>305.0</td>\n",
       "      <td>61.0</td>\n",
       "    </tr>\n",
       "    <tr>\n",
       "      <th>2015-03-29</th>\n",
       "      <td>47</td>\n",
       "      <td>490.0</td>\n",
       "      <td>52.0</td>\n",
       "    </tr>\n",
       "    <tr>\n",
       "      <th>2015-03-30</th>\n",
       "      <td>71</td>\n",
       "      <td>215.0</td>\n",
       "      <td>71.0</td>\n",
       "    </tr>\n",
       "    <tr>\n",
       "      <th>2015-03-31</th>\n",
       "      <td>87</td>\n",
       "      <td>985.0</td>\n",
       "      <td>89.0</td>\n",
       "    </tr>\n",
       "  </tbody>\n",
       "</table>\n",
       "</div>"
      ],
      "text/plain": [
       "            arrivals   cars  departures\n",
       "2015-03-27        84   64.0        88.0\n",
       "2015-03-28        54  305.0        61.0\n",
       "2015-03-29        47  490.0        52.0\n",
       "2015-03-30        71  215.0        71.0\n",
       "2015-03-31        87  985.0        89.0"
      ]
     },
     "execution_count": 68,
     "metadata": {},
     "output_type": "execute_result"
    }
   ],
   "source": [
    "allJoined.tail()"
   ]
  },
  {
   "cell_type": "code",
   "execution_count": 69,
   "metadata": {
    "collapsed": true
   },
   "outputs": [],
   "source": [
    "random.seed(123)\n",
    "train2, validation2 = train_test_split(allJoined, test_size=0.2)"
   ]
  },
  {
   "cell_type": "code",
   "execution_count": 70,
   "metadata": {
    "collapsed": true
   },
   "outputs": [],
   "source": [
    "model2 = sm.ols(formula = \"cars ~ arrivals + departures\", data = train2).fit()"
   ]
  },
  {
   "cell_type": "code",
   "execution_count": 71,
   "metadata": {
    "collapsed": false
   },
   "outputs": [],
   "source": [
    "predictions2 = model2.predict(validation2[['arrivals', 'departures']])"
   ]
  },
  {
   "cell_type": "code",
   "execution_count": 72,
   "metadata": {
    "collapsed": false
   },
   "outputs": [
    {
     "data": {
      "text/html": [
       "<table class=\"simpletable\">\n",
       "<caption>OLS Regression Results</caption>\n",
       "<tr>\n",
       "  <th>Dep. Variable:</th>          <td>cars</td>       <th>  R-squared:         </th> <td>   0.147</td> \n",
       "</tr>\n",
       "<tr>\n",
       "  <th>Model:</th>                   <td>OLS</td>       <th>  Adj. R-squared:    </th> <td>   0.145</td> \n",
       "</tr>\n",
       "<tr>\n",
       "  <th>Method:</th>             <td>Least Squares</td>  <th>  F-statistic:       </th> <td>   75.15</td> \n",
       "</tr>\n",
       "<tr>\n",
       "  <th>Date:</th>             <td>Fri, 30 Sep 2016</td> <th>  Prob (F-statistic):</th> <td>7.72e-31</td> \n",
       "</tr>\n",
       "<tr>\n",
       "  <th>Time:</th>                 <td>14:36:55</td>     <th>  Log-Likelihood:    </th> <td> -6283.2</td> \n",
       "</tr>\n",
       "<tr>\n",
       "  <th>No. Observations:</th>      <td>   876</td>      <th>  AIC:               </th> <td>1.257e+04</td>\n",
       "</tr>\n",
       "<tr>\n",
       "  <th>Df Residuals:</th>          <td>   873</td>      <th>  BIC:               </th> <td>1.259e+04</td>\n",
       "</tr>\n",
       "<tr>\n",
       "  <th>Df Model:</th>              <td>     2</td>      <th>                     </th>     <td> </td>    \n",
       "</tr>\n",
       "<tr>\n",
       "  <th>Covariance Type:</th>      <td>nonrobust</td>    <th>                     </th>     <td> </td>    \n",
       "</tr>\n",
       "</table>\n",
       "<table class=\"simpletable\">\n",
       "<tr>\n",
       "       <td></td>         <th>coef</th>     <th>std err</th>      <th>t</th>      <th>P>|t|</th>  <th>[0.025</th>    <th>0.975]</th>  \n",
       "</tr>\n",
       "<tr>\n",
       "  <th>Intercept</th>  <td> -183.0041</td> <td>   43.288</td> <td>   -4.228</td> <td> 0.000</td> <td> -267.965</td> <td>  -98.043</td>\n",
       "</tr>\n",
       "<tr>\n",
       "  <th>arrivals</th>   <td>  -24.3579</td> <td>    2.308</td> <td>  -10.553</td> <td> 0.000</td> <td>  -28.888</td> <td>  -19.828</td>\n",
       "</tr>\n",
       "<tr>\n",
       "  <th>departures</th> <td>   26.2579</td> <td>    2.240</td> <td>   11.720</td> <td> 0.000</td> <td>   21.861</td> <td>   30.655</td>\n",
       "</tr>\n",
       "</table>\n",
       "<table class=\"simpletable\">\n",
       "<tr>\n",
       "  <th>Omnibus:</th>       <td>162.205</td> <th>  Durbin-Watson:     </th> <td>   2.051</td> \n",
       "</tr>\n",
       "<tr>\n",
       "  <th>Prob(Omnibus):</th> <td> 0.000</td>  <th>  Jarque-Bera (JB):  </th> <td>1151.329</td> \n",
       "</tr>\n",
       "<tr>\n",
       "  <th>Skew:</th>          <td> 0.636</td>  <th>  Prob(JB):          </th> <td>9.82e-251</td>\n",
       "</tr>\n",
       "<tr>\n",
       "  <th>Kurtosis:</th>      <td> 8.470</td>  <th>  Cond. No.          </th> <td>    463.</td> \n",
       "</tr>\n",
       "</table>"
      ],
      "text/plain": [
       "<class 'statsmodels.iolib.summary.Summary'>\n",
       "\"\"\"\n",
       "                            OLS Regression Results                            \n",
       "==============================================================================\n",
       "Dep. Variable:                   cars   R-squared:                       0.147\n",
       "Model:                            OLS   Adj. R-squared:                  0.145\n",
       "Method:                 Least Squares   F-statistic:                     75.15\n",
       "Date:                Fri, 30 Sep 2016   Prob (F-statistic):           7.72e-31\n",
       "Time:                        14:36:55   Log-Likelihood:                -6283.2\n",
       "No. Observations:                 876   AIC:                         1.257e+04\n",
       "Df Residuals:                     873   BIC:                         1.259e+04\n",
       "Df Model:                           2                                         \n",
       "Covariance Type:            nonrobust                                         \n",
       "==============================================================================\n",
       "                 coef    std err          t      P>|t|      [0.025      0.975]\n",
       "------------------------------------------------------------------------------\n",
       "Intercept   -183.0041     43.288     -4.228      0.000    -267.965     -98.043\n",
       "arrivals     -24.3579      2.308    -10.553      0.000     -28.888     -19.828\n",
       "departures    26.2579      2.240     11.720      0.000      21.861      30.655\n",
       "==============================================================================\n",
       "Omnibus:                      162.205   Durbin-Watson:                   2.051\n",
       "Prob(Omnibus):                  0.000   Jarque-Bera (JB):             1151.329\n",
       "Skew:                           0.636   Prob(JB):                    9.82e-251\n",
       "Kurtosis:                       8.470   Cond. No.                         463.\n",
       "==============================================================================\n",
       "\n",
       "Warnings:\n",
       "[1] Standard Errors assume that the covariance matrix of the errors is correctly specified.\n",
       "\"\"\""
      ]
     },
     "execution_count": 72,
     "metadata": {},
     "output_type": "execute_result"
    }
   ],
   "source": [
    "model2.summary()"
   ]
  },
  {
   "cell_type": "code",
   "execution_count": 73,
   "metadata": {
    "collapsed": false
   },
   "outputs": [
    {
     "data": {
      "image/png": "[encoded data removed]",
      "text/plain": [
       "<matplotlib.figure.Figure at 0x14284e668>"
      ]
     },
     "metadata": {},
     "output_type": "display_data"
    }
   ],
   "source": [
    "sap.graphics.plot_fit(model2, \"arrivals\");"
   ]
  },
  {
   "cell_type": "code",
   "execution_count": 74,
   "metadata": {
    "collapsed": false
   },
   "outputs": [
    {
     "data": {
      "image/png": "[encoded data removed]",
      "text/plain": [
       "<matplotlib.figure.Figure at 0x159e91f60>"
      ]
     },
     "metadata": {},
     "output_type": "display_data"
    }
   ],
   "source": [
    "sap.graphics.plot_fit(model2, \"departures\");"
   ]
  },
  {
   "cell_type": "markdown",
   "metadata": {},
   "source": [
    "# Comparing the two models"
   ]
  },
  {
   "cell_type": "code",
   "execution_count": 75,
   "metadata": {
    "collapsed": false
   },
   "outputs": [
    {
     "data": {
      "text/html": [
       "<div>\n",
       "<table border=\"1\" class=\"dataframe\">\n",
       "  <thead>\n",
       "    <tr style=\"text-align: right;\">\n",
       "      <th></th>\n",
       "      <th>df_resid</th>\n",
       "      <th>ssr</th>\n",
       "      <th>df_diff</th>\n",
       "      <th>ss_diff</th>\n",
       "      <th>F</th>\n",
       "      <th>Pr(&gt;F)</th>\n",
       "    </tr>\n",
       "  </thead>\n",
       "  <tbody>\n",
       "    <tr>\n",
       "      <th>0</th>\n",
       "      <td>874.0</td>\n",
       "      <td>9.559115e+07</td>\n",
       "      <td>0.0</td>\n",
       "      <td>NaN</td>\n",
       "      <td>NaN</td>\n",
       "      <td>NaN</td>\n",
       "    </tr>\n",
       "    <tr>\n",
       "      <th>1</th>\n",
       "      <td>873.0</td>\n",
       "      <td>8.711549e+07</td>\n",
       "      <td>1.0</td>\n",
       "      <td>8.475665e+06</td>\n",
       "      <td>84.936166</td>\n",
       "      <td>2.247890e-19</td>\n",
       "    </tr>\n",
       "  </tbody>\n",
       "</table>\n",
       "</div>"
      ],
      "text/plain": [
       "   df_resid           ssr  df_diff       ss_diff          F        Pr(>F)\n",
       "0     874.0  9.559115e+07      0.0           NaN        NaN           NaN\n",
       "1     873.0  8.711549e+07      1.0  8.475665e+06  84.936166  2.247890e-19"
      ]
     },
     "execution_count": 75,
     "metadata": {},
     "output_type": "execute_result"
    }
   ],
   "source": [
    "sap.stats.anova_lm(model,model2)"
   ]
  },
  {
   "cell_type": "code",
   "execution_count": 76,
   "metadata": {
    "collapsed": false
   },
   "outputs": [
    {
     "name": "stdout",
     "output_type": "stream",
     "text": [
      "Number of flights model: 12651.7771744 \n",
      " Arrivals and Departures model 12572.44444\n"
     ]
    }
   ],
   "source": [
    "print(\"Number of flights model:\",model.aic, \"\\n\", \"Arrivals and Departures model\", model2.aic)"
   ]
  },
  {
   "cell_type": "markdown",
   "metadata": {},
   "source": [
    "### The model that separates arrivals and departures has a better fit"
   ]
  },
  {
   "cell_type": "markdown",
   "metadata": {},
   "source": [
    "# Taking only arrivals into account"
   ]
  },
  {
   "cell_type": "code",
   "execution_count": 78,
   "metadata": {
    "collapsed": true
   },
   "outputs": [],
   "source": [
    "random.seed(123)\n",
    "arrAndP=arrAndP.ix[:-1];\n",
    "traina, validationa = train_test_split(arrAndP, test_size=0.2)"
   ]
  },
  {
   "cell_type": "code",
   "execution_count": 79,
   "metadata": {
    "collapsed": true
   },
   "outputs": [],
   "source": [
    "modela = sm.ols(formula = \"cars ~ arrivals\", data = traina).fit()"
   ]
  },
  {
   "cell_type": "code",
   "execution_count": 80,
   "metadata": {
    "collapsed": false
   },
   "outputs": [],
   "source": [
    "predictionsa = modela.predict(validationa)"
   ]
  },
  {
   "cell_type": "code",
   "execution_count": 81,
   "metadata": {
    "collapsed": false
   },
   "outputs": [
    {
     "data": {
      "text/html": [
       "<div>\n",
       "<table border=\"1\" class=\"dataframe\">\n",
       "  <thead>\n",
       "    <tr style=\"text-align: right;\">\n",
       "      <th></th>\n",
       "      <th>arrivals</th>\n",
       "      <th>cars</th>\n",
       "    </tr>\n",
       "  </thead>\n",
       "  <tbody>\n",
       "    <tr>\n",
       "      <th>2012-07-20</th>\n",
       "      <td>102</td>\n",
       "      <td>283.0</td>\n",
       "    </tr>\n",
       "    <tr>\n",
       "      <th>2014-08-27</th>\n",
       "      <td>111</td>\n",
       "      <td>-577.0</td>\n",
       "    </tr>\n",
       "    <tr>\n",
       "      <th>2015-01-01</th>\n",
       "      <td>21</td>\n",
       "      <td>-121.0</td>\n",
       "    </tr>\n",
       "    <tr>\n",
       "      <th>2012-11-01</th>\n",
       "      <td>86</td>\n",
       "      <td>-128.0</td>\n",
       "    </tr>\n",
       "    <tr>\n",
       "      <th>2014-03-09</th>\n",
       "      <td>48</td>\n",
       "      <td>-186.0</td>\n",
       "    </tr>\n",
       "  </tbody>\n",
       "</table>\n",
       "</div>"
      ],
      "text/plain": [
       "            arrivals   cars\n",
       "2012-07-20       102  283.0\n",
       "2014-08-27       111 -577.0\n",
       "2015-01-01        21 -121.0\n",
       "2012-11-01        86 -128.0\n",
       "2014-03-09        48 -186.0"
      ]
     },
     "execution_count": 81,
     "metadata": {},
     "output_type": "execute_result"
    }
   ],
   "source": [
    "validationa.head()"
   ]
  },
  {
   "cell_type": "code",
   "execution_count": 82,
   "metadata": {
    "collapsed": false
   },
   "outputs": [
    {
     "data": {
      "image/png": "[encoded data removed]",
      "text/plain": [
       "<matplotlib.figure.Figure at 0x14886d390>"
      ]
     },
     "metadata": {},
     "output_type": "display_data"
    }
   ],
   "source": [
    "sap.graphics.plot_fit(model2, \"arrivals\");"
   ]
  },
  {
   "cell_type": "code",
   "execution_count": 83,
   "metadata": {
    "collapsed": false
   },
   "outputs": [
    {
     "name": "stdout",
     "output_type": "stream",
     "text": [
      "Only arrivals model: 12663.1878722 \n",
      " Arrivals and Departures model 12572.44444\n"
     ]
    }
   ],
   "source": [
    "print(\"Only arrivals model:\",modela.aic, \"\\n\", \"Arrivals and Departures model\", model2.aic)"
   ]
  },
  {
   "cell_type": "markdown",
   "metadata": {},
   "source": [
    "### The model that separates arrivals and departures still has a better fit than only taking arrivals into account"
   ]
  },
  {
   "cell_type": "code",
   "execution_count": 86,
   "metadata": {
    "collapsed": false
   },
   "outputs": [
    {
     "data": {
      "text/plain": [
       "<seaborn.axisgrid.FacetGrid at 0x1534bed30>"
      ]
     },
     "execution_count": 86,
     "metadata": {},
     "output_type": "execute_result"
    },
    {
     "data": {
      "image/png": "[encoded data removed]",
      "text/plain": [
       "<matplotlib.figure.Figure at 0x1534c2630>"
      ]
     },
     "metadata": {},
     "output_type": "display_data"
    }
   ],
   "source": [
    "# fig, ax = plt.subplots()\n",
    "ax.set_ylabel('Count')\n",
    "ax.set_title('Arrivals and Departures')\n",
    "sb.lmplot(x=\"arrivals\", y=\"departures\", data=allJoined)"
   ]
  },
  {
   "cell_type": "markdown",
   "metadata": {},
   "source": [
    "# Comparing models based on the rmse of the validation predictions"
   ]
  },
  {
   "cell_type": "code",
   "execution_count": 91,
   "metadata": {
    "collapsed": false
   },
   "outputs": [
    {
     "name": "stdout",
     "output_type": "stream",
     "text": [
      "rmse of the model with the total number of flights: 355.861002976\n",
      "rmse of the model with separated arrivals and departures: 310.894891404\n",
      "rmse of the model only with the arrivals: 356.871241962\n"
     ]
    }
   ],
   "source": [
    "print('rmse of the model with the total number of flights:',sap.tools.eval_measures.rmse(predictions, validation.cars))\n",
    "print('rmse of the model with separated arrivals and departures:',sap.tools.eval_measures.rmse(predictions2, validation2.cars))\n",
    "print('rmse of the model only with the arrivals:',sap.tools.eval_measures.rmse(predictionsa, validationa.cars))"
   ]
  },
  {
   "cell_type": "markdown",
   "metadata": {},
   "source": [
    "### The best approach would be to separate arrivals and departures"
   ]
  },
  {
   "cell_type": "code",
   "execution_count": null,
   "metadata": {
    "collapsed": true
   },
   "outputs": [],
   "source": [
    ""
   ]
  }
 ],
 "metadata": {
  "kernelspec": {
   "display_name": "Python [Root]",
   "language": "python",
   "name": "Python [Root]"
  },
  "language_info": {
   "codemirror_mode": {
    "name": "ipython",
    "version": 3.0
   },
   "file_extension": ".py",
   "mimetype": "text/x-python",
   "name": "python",
   "nbconvert_exporter": "python",
   "pygments_lexer": "ipython3",
   "version": "3.5.2"
  }
 },
 "nbformat": 4,
 "nbformat_minor": 0
}